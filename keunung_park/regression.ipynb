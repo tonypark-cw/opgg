{
 "cells": [
  {
   "cell_type": "markdown",
   "id": "a2b1b5d7",
   "metadata": {},
   "source": [
    "## 0. 문제\n",
    "- Task : 생존 시간 예측 (regression 문제)"
   ]
  },
  {
   "cell_type": "markdown",
   "id": "08164075",
   "metadata": {},
   "source": [
    "## 1. 사용 library import"
   ]
  },
  {
   "cell_type": "code",
   "execution_count": 169,
   "id": "e0162f16",
   "metadata": {
    "ExecuteTime": {
     "end_time": "2021-09-07T19:30:11.752023Z",
     "start_time": "2021-09-07T19:30:11.735091Z"
    }
   },
   "outputs": [],
   "source": [
    "import os\n",
    "from time import sleep, time\n",
    "from collections import deque\n",
    "from itertools import combinations\n",
    "from pprint import pprint\n",
    "import math\n",
    "\n",
    "import numpy as np\n",
    "import pandas as pd\n",
    "\n",
    "from sklearn.metrics import r2_score, mean_absolute_error\n",
    "from sklearn.compose import make_column_transformer\n",
    "from sklearn.preprocessing import StandardScaler, MinMaxScaler\n",
    "\n",
    "import matplotlib\n",
    "import matplotlib.pyplot as plt\n",
    "import matplotlib.cm as cm\n",
    "import seaborn as sns\n",
    "import squarify\n",
    "\n",
    "from pandas_profiling import ProfileReport\n",
    "\n",
    "plt.style.use('seaborn-whitegrid')\n",
    "matplotlib.rcParams['font.family']='Malgun Gothic'\n",
    "matplotlib.rcParams['axes.unicode_minus'] = False\n",
    "\n",
    "import warnings\n",
    "warnings.filterwarnings('ignore')"
   ]
  },
  {
   "cell_type": "markdown",
   "id": "5f1a8603",
   "metadata": {},
   "source": [
    "## 2. 생성된 Data Frame 불러오기"
   ]
  },
  {
   "cell_type": "code",
   "execution_count": 76,
   "id": "3be9c539",
   "metadata": {
    "ExecuteTime": {
     "end_time": "2021-09-07T18:06:36.526224Z",
     "start_time": "2021-09-07T18:06:36.059085Z"
    },
    "scrolled": true
   },
   "outputs": [
    {
     "data": {
      "text/html": [
       "<div>\n",
       "<style scoped>\n",
       "    .dataframe tbody tr th:only-of-type {\n",
       "        vertical-align: middle;\n",
       "    }\n",
       "\n",
       "    .dataframe tbody tr th {\n",
       "        vertical-align: top;\n",
       "    }\n",
       "\n",
       "    .dataframe thead th {\n",
       "        text-align: right;\n",
       "    }\n",
       "</style>\n",
       "<table border=\"1\" class=\"dataframe\">\n",
       "  <thead>\n",
       "    <tr style=\"text-align: right;\">\n",
       "      <th></th>\n",
       "      <th>dbnos</th>\n",
       "      <th>assists</th>\n",
       "      <th>boosts</th>\n",
       "      <th>damage_dealt</th>\n",
       "      <th>death_type</th>\n",
       "      <th>headshot_kills</th>\n",
       "      <th>heals</th>\n",
       "      <th>kill_place</th>\n",
       "      <th>kill_streaks</th>\n",
       "      <th>kills</th>\n",
       "      <th>...</th>\n",
       "      <th>walk_distance</th>\n",
       "      <th>weapons_acquired</th>\n",
       "      <th>win_place</th>\n",
       "      <th>match_mapName</th>\n",
       "      <th>match_duration</th>\n",
       "      <th>match_createdAt</th>\n",
       "      <th>roster_rank</th>\n",
       "      <th>roster_won</th>\n",
       "      <th>tournament_id</th>\n",
       "      <th>tournament_createdAt</th>\n",
       "    </tr>\n",
       "  </thead>\n",
       "  <tbody>\n",
       "    <tr>\n",
       "      <th>0</th>\n",
       "      <td>1</td>\n",
       "      <td>0</td>\n",
       "      <td>2</td>\n",
       "      <td>178.78679</td>\n",
       "      <td>byplayer</td>\n",
       "      <td>0</td>\n",
       "      <td>7</td>\n",
       "      <td>20</td>\n",
       "      <td>1</td>\n",
       "      <td>1</td>\n",
       "      <td>...</td>\n",
       "      <td>706.84840</td>\n",
       "      <td>7</td>\n",
       "      <td>4</td>\n",
       "      <td>Miramar</td>\n",
       "      <td>1742</td>\n",
       "      <td>2020-12-19T07:39:25Z</td>\n",
       "      <td>4</td>\n",
       "      <td>False</td>\n",
       "      <td>as-pwi20</td>\n",
       "      <td>2020-12-19T07:04:54Z</td>\n",
       "    </tr>\n",
       "    <tr>\n",
       "      <th>1</th>\n",
       "      <td>0</td>\n",
       "      <td>0</td>\n",
       "      <td>1</td>\n",
       "      <td>0.00000</td>\n",
       "      <td>byplayer</td>\n",
       "      <td>0</td>\n",
       "      <td>1</td>\n",
       "      <td>33</td>\n",
       "      <td>0</td>\n",
       "      <td>0</td>\n",
       "      <td>...</td>\n",
       "      <td>630.31635</td>\n",
       "      <td>4</td>\n",
       "      <td>4</td>\n",
       "      <td>Miramar</td>\n",
       "      <td>1742</td>\n",
       "      <td>2020-12-19T07:39:25Z</td>\n",
       "      <td>4</td>\n",
       "      <td>False</td>\n",
       "      <td>as-pwi20</td>\n",
       "      <td>2020-12-19T07:04:54Z</td>\n",
       "    </tr>\n",
       "    <tr>\n",
       "      <th>2</th>\n",
       "      <td>1</td>\n",
       "      <td>0</td>\n",
       "      <td>1</td>\n",
       "      <td>100.00000</td>\n",
       "      <td>byplayer</td>\n",
       "      <td>0</td>\n",
       "      <td>3</td>\n",
       "      <td>34</td>\n",
       "      <td>0</td>\n",
       "      <td>0</td>\n",
       "      <td>...</td>\n",
       "      <td>1328.34330</td>\n",
       "      <td>3</td>\n",
       "      <td>4</td>\n",
       "      <td>Miramar</td>\n",
       "      <td>1742</td>\n",
       "      <td>2020-12-19T07:39:25Z</td>\n",
       "      <td>4</td>\n",
       "      <td>False</td>\n",
       "      <td>as-pwi20</td>\n",
       "      <td>2020-12-19T07:04:54Z</td>\n",
       "    </tr>\n",
       "    <tr>\n",
       "      <th>3</th>\n",
       "      <td>1</td>\n",
       "      <td>0</td>\n",
       "      <td>0</td>\n",
       "      <td>207.98430</td>\n",
       "      <td>byplayer</td>\n",
       "      <td>0</td>\n",
       "      <td>1</td>\n",
       "      <td>21</td>\n",
       "      <td>1</td>\n",
       "      <td>1</td>\n",
       "      <td>...</td>\n",
       "      <td>1109.39770</td>\n",
       "      <td>4</td>\n",
       "      <td>4</td>\n",
       "      <td>Miramar</td>\n",
       "      <td>1742</td>\n",
       "      <td>2020-12-19T07:39:25Z</td>\n",
       "      <td>4</td>\n",
       "      <td>False</td>\n",
       "      <td>as-pwi20</td>\n",
       "      <td>2020-12-19T07:04:54Z</td>\n",
       "    </tr>\n",
       "    <tr>\n",
       "      <th>4</th>\n",
       "      <td>1</td>\n",
       "      <td>0</td>\n",
       "      <td>3</td>\n",
       "      <td>189.19508</td>\n",
       "      <td>byplayer</td>\n",
       "      <td>1</td>\n",
       "      <td>6</td>\n",
       "      <td>25</td>\n",
       "      <td>1</td>\n",
       "      <td>1</td>\n",
       "      <td>...</td>\n",
       "      <td>1024.16360</td>\n",
       "      <td>3</td>\n",
       "      <td>8</td>\n",
       "      <td>Miramar</td>\n",
       "      <td>1742</td>\n",
       "      <td>2020-12-19T07:39:25Z</td>\n",
       "      <td>8</td>\n",
       "      <td>False</td>\n",
       "      <td>as-pwi20</td>\n",
       "      <td>2020-12-19T07:04:54Z</td>\n",
       "    </tr>\n",
       "  </tbody>\n",
       "</table>\n",
       "<p>5 rows × 30 columns</p>\n",
       "</div>"
      ],
      "text/plain": [
       "   dbnos  assists  boosts  damage_dealt death_type  headshot_kills  heals  \\\n",
       "0      1        0       2     178.78679   byplayer               0      7   \n",
       "1      0        0       1       0.00000   byplayer               0      1   \n",
       "2      1        0       1     100.00000   byplayer               0      3   \n",
       "3      1        0       0     207.98430   byplayer               0      1   \n",
       "4      1        0       3     189.19508   byplayer               1      6   \n",
       "\n",
       "   kill_place  kill_streaks  kills  ...  walk_distance weapons_acquired  \\\n",
       "0          20             1      1  ...      706.84840                7   \n",
       "1          33             0      0  ...      630.31635                4   \n",
       "2          34             0      0  ...     1328.34330                3   \n",
       "3          21             1      1  ...     1109.39770                4   \n",
       "4          25             1      1  ...     1024.16360                3   \n",
       "\n",
       "  win_place  match_mapName  match_duration       match_createdAt  roster_rank  \\\n",
       "0         4        Miramar            1742  2020-12-19T07:39:25Z            4   \n",
       "1         4        Miramar            1742  2020-12-19T07:39:25Z            4   \n",
       "2         4        Miramar            1742  2020-12-19T07:39:25Z            4   \n",
       "3         4        Miramar            1742  2020-12-19T07:39:25Z            4   \n",
       "4         8        Miramar            1742  2020-12-19T07:39:25Z            8   \n",
       "\n",
       "   roster_won  tournament_id  tournament_createdAt  \n",
       "0       False       as-pwi20  2020-12-19T07:04:54Z  \n",
       "1       False       as-pwi20  2020-12-19T07:04:54Z  \n",
       "2       False       as-pwi20  2020-12-19T07:04:54Z  \n",
       "3       False       as-pwi20  2020-12-19T07:04:54Z  \n",
       "4       False       as-pwi20  2020-12-19T07:04:54Z  \n",
       "\n",
       "[5 rows x 30 columns]"
      ]
     },
     "execution_count": 76,
     "metadata": {},
     "output_type": "execute_result"
    }
   ],
   "source": [
    "df = pd.read_csv('./data/2020_torunaments.csv')\n",
    "df.head()"
   ]
  },
  {
   "cell_type": "code",
   "execution_count": 92,
   "id": "6a320010",
   "metadata": {
    "ExecuteTime": {
     "end_time": "2021-09-07T18:17:02.420643Z",
     "start_time": "2021-09-07T18:17:02.407449Z"
    }
   },
   "outputs": [
    {
     "data": {
      "text/plain": [
       "Index(['dbnos', 'assists', 'boosts', 'damage_dealt', 'death_type',\n",
       "       'headshot_kills', 'heals', 'kill_place', 'kill_streaks', 'kills',\n",
       "       'longest_kill', 'name', 'player_id', 'revives', 'ride_distance',\n",
       "       'road_kills', 'swim_distance', 'team_kills', 'time_survived',\n",
       "       'vehicle_destroys', 'walk_distance', 'weapons_acquired', 'win_place',\n",
       "       'match_mapName', 'match_duration', 'match_createdAt', 'roster_rank',\n",
       "       'roster_won', 'tournament_id', 'tournament_createdAt'],\n",
       "      dtype='object')"
      ]
     },
     "execution_count": 92,
     "metadata": {},
     "output_type": "execute_result"
    }
   ],
   "source": [
    "df.columns"
   ]
  },
  {
   "cell_type": "markdown",
   "id": "780a8f9e",
   "metadata": {},
   "source": [
    "## 3. train / test 분리\n",
    "* train : 40개 tournaments\n",
    "* test : 최근 14개 tournaments"
   ]
  },
  {
   "cell_type": "code",
   "execution_count": 77,
   "id": "a35a7874",
   "metadata": {
    "ExecuteTime": {
     "end_time": "2021-09-07T18:06:38.485679Z",
     "start_time": "2021-09-07T18:06:38.418003Z"
    }
   },
   "outputs": [
    {
     "name": "stdout",
     "output_type": "stream",
     "text": [
      "['sea-ptmsr', 'as-osm20', 'as-pcs3as', 'eu-pcs3gf', 'sea-vpt20', 'as-icc20', 'as-jk2020', 'as-bsc3', 'eu-dhsw20', 'as-apl', 'na-dhsw20', 'cn-dgls11', 'cn-htgis8', 'as-pwi20']\n"
     ]
    }
   ],
   "source": [
    "# test_tournaments\n",
    "tournaments = df.groupby(['tournament_id', 'tournament_createdAt'])\n",
    "tournaments = sorted([(d, i, tmp.shape[0]) for (i,d), tmp in tournaments], key=lambda x: x[0])\n",
    "test_tournaments = [b for a,b,c in tournaments[-14:]]\n",
    "print(test_tournaments)"
   ]
  },
  {
   "cell_type": "code",
   "execution_count": 78,
   "id": "8dce56fb",
   "metadata": {
    "ExecuteTime": {
     "end_time": "2021-09-07T18:06:39.149289Z",
     "start_time": "2021-09-07T18:06:39.126165Z"
    },
    "scrolled": true
   },
   "outputs": [
    {
     "name": "stdout",
     "output_type": "stream",
     "text": [
      "['eu-pcs3gs', 'sea-ptms20', 'sea-pps2', 'cn-pcsa', 'oc-ods20', 'sea-psms2', 'eu-dachs20', 'sa-cpms3', 'oc-lp3pl', 'as-pcs3kr', 'eu-psl7', 'sea-pcs2ap', 'na-pcs2gf', 'as-pcs2as', 'kr-lvup', 'sea-pis2', 'na-chall2', 'eu-pcs2gs', 'sea-pps1', 'na-pcs2gs', 'as-pcs2kr', 'sa-pmcs2', 'sea-ptsp3', 'sea-pcs1ap', 'na-chall', 'eu-pcs1gs', 'na-pcs1gf', 'sea-pis20', 'sa-cpm20', 'eu-pcscsgf', 'as-pcs1kr', 'eu-dhs20gf', 'sea-lpt20', 'as-pcls20', 'as-pclps19', 'eu-testq', 'sea-pss20', 'sea-pvs20', 'tst-hsm', 'kr-bsc20', 'kr-nr20']\n"
     ]
    }
   ],
   "source": [
    "# train_tournaments\n",
    "train_tournaments = [t for t in df.tournament_id.unique() if t not in test_tournaments]\n",
    "print(train_tournaments)"
   ]
  },
  {
   "cell_type": "code",
   "execution_count": 82,
   "id": "2551f9f4",
   "metadata": {
    "ExecuteTime": {
     "end_time": "2021-09-07T18:11:38.446297Z",
     "start_time": "2021-09-07T18:11:38.385968Z"
    }
   },
   "outputs": [],
   "source": [
    "train_df = df[df.tournament_id.isin(train_tournaments)] \n",
    "train_df = train_df.query('tournament_id!=\"eu-testq\"') \n",
    "test_df = df[df.tournament_id.isin(test_tournaments)]"
   ]
  },
  {
   "cell_type": "code",
   "execution_count": 187,
   "id": "0f75574e",
   "metadata": {
    "ExecuteTime": {
     "end_time": "2021-09-08T07:48:43.908887Z",
     "start_time": "2021-09-08T07:48:43.871113Z"
    }
   },
   "outputs": [],
   "source": [
    "x_train, y_train = train_df.drop('time_survived', axis=1), train_df.time_survived"
   ]
  },
  {
   "cell_type": "code",
   "execution_count": 117,
   "id": "e3d523ee",
   "metadata": {
    "ExecuteTime": {
     "end_time": "2021-09-07T18:52:47.127778Z",
     "start_time": "2021-09-07T18:52:47.116842Z"
    }
   },
   "outputs": [],
   "source": [
    "x_test, y_test = test_df.drop('time_survived', axis=1), test_df.time_survived"
   ]
  },
  {
   "cell_type": "code",
   "execution_count": 91,
   "id": "6d3c58e9",
   "metadata": {
    "ExecuteTime": {
     "end_time": "2021-09-07T18:14:26.926005Z",
     "start_time": "2021-09-07T18:14:26.915057Z"
    }
   },
   "outputs": [
    {
     "name": "stdout",
     "output_type": "stream",
     "text": [
      "train:test 비율 : 82.39:17.61\n"
     ]
    }
   ],
   "source": [
    "a1, a2 = train_df.shape[0]/(train_df.shape[0]+test_df.shape[0]), test_df.shape[0]/(train_df.shape[0]+test_df.shape[0])\n",
    "print(f'train:test 비율 : {round(a1*100, 2)}:{round(a2*100, 2)}')"
   ]
  },
  {
   "cell_type": "markdown",
   "id": "19869bda",
   "metadata": {},
   "source": [
    "## 3. 전처리\n",
    "- 컬럼 삭제\n",
    "    * win_place\n",
    "    * tournament_createdAt\n",
    "    * tournament_id\n",
    "    * player_id\n",
    "    * match_createdAt\n",
    "    * name"
   ]
  },
  {
   "cell_type": "code",
   "execution_count": 96,
   "id": "8e4ecffb",
   "metadata": {
    "ExecuteTime": {
     "end_time": "2021-09-07T18:21:52.551717Z",
     "start_time": "2021-09-07T18:21:52.523224Z"
    }
   },
   "outputs": [],
   "source": [
    "train_df.drop(columns=['win_place', 'tournament_createdAt', 'tournament_id', 'player_id', 'match_createdAt', 'name'], inplace=True)\n",
    "test_df.drop(columns=['win_place', 'tournament_createdAt', 'tournament_id', 'player_id', 'match_createdAt', 'name'], inplace=True)"
   ]
  },
  {
   "cell_type": "code",
   "execution_count": 110,
   "id": "8e6a9a00",
   "metadata": {
    "ExecuteTime": {
     "end_time": "2021-09-07T18:47:49.520326Z",
     "start_time": "2021-09-07T18:47:49.511357Z"
    }
   },
   "outputs": [
    {
     "data": {
      "text/plain": [
       "Index(['dbnos', 'assists', 'boosts', 'damage_dealt', 'death_type',\n",
       "       'headshot_kills', 'heals', 'kill_place', 'kill_streaks', 'kills',\n",
       "       'longest_kill', 'revives', 'ride_distance', 'road_kills',\n",
       "       'swim_distance', 'team_kills', 'time_survived', 'vehicle_destroys',\n",
       "       'walk_distance', 'weapons_acquired', 'match_mapName', 'match_duration',\n",
       "       'roster_rank', 'roster_won'],\n",
       "      dtype='object')"
      ]
     },
     "execution_count": 110,
     "metadata": {},
     "output_type": "execute_result"
    }
   ],
   "source": [
    "train_df.columns"
   ]
  },
  {
   "cell_type": "markdown",
   "id": "75e2f82e",
   "metadata": {},
   "source": [
    "## 4. pycaret"
   ]
  },
  {
   "cell_type": "markdown",
   "id": "3715d5fa",
   "metadata": {},
   "source": [
    "### 4.1. setup"
   ]
  },
  {
   "cell_type": "code",
   "execution_count": 252,
   "id": "8177dfc7",
   "metadata": {
    "ExecuteTime": {
     "end_time": "2021-09-08T08:37:44.592555Z",
     "start_time": "2021-09-08T08:37:44.575534Z"
    }
   },
   "outputs": [],
   "source": [
    "cat_columns = [c for c, d in zip(x_train.columns, x_train.dtypes) if d=='O' or d=='bool']\n",
    "num_columns = [c for c in x_train.columns if c not in cat_columns]"
   ]
  },
  {
   "cell_type": "code",
   "execution_count": 253,
   "id": "a5e21dce",
   "metadata": {
    "ExecuteTime": {
     "end_time": "2021-09-08T08:38:35.984903Z",
     "start_time": "2021-09-08T08:38:30.971601Z"
    },
    "scrolled": true
   },
   "outputs": [
    {
     "data": {
      "text/html": [
       "<style  type=\"text/css\" >\n",
       "#T_608ed_row42_col1{\n",
       "            background-color:  lightgreen;\n",
       "        }</style><table id=\"T_608ed_\" ><thead>    <tr>        <th class=\"blank level0\" ></th>        <th class=\"col_heading level0 col0\" >Description</th>        <th class=\"col_heading level0 col1\" >Value</th>    </tr></thead><tbody>\n",
       "                <tr>\n",
       "                        <th id=\"T_608ed_level0_row0\" class=\"row_heading level0 row0\" >0</th>\n",
       "                        <td id=\"T_608ed_row0_col0\" class=\"data row0 col0\" >session_id</td>\n",
       "                        <td id=\"T_608ed_row0_col1\" class=\"data row0 col1\" >2705</td>\n",
       "            </tr>\n",
       "            <tr>\n",
       "                        <th id=\"T_608ed_level0_row1\" class=\"row_heading level0 row1\" >1</th>\n",
       "                        <td id=\"T_608ed_row1_col0\" class=\"data row1 col0\" >Target</td>\n",
       "                        <td id=\"T_608ed_row1_col1\" class=\"data row1 col1\" >time_survived</td>\n",
       "            </tr>\n",
       "            <tr>\n",
       "                        <th id=\"T_608ed_level0_row2\" class=\"row_heading level0 row2\" >2</th>\n",
       "                        <td id=\"T_608ed_row2_col0\" class=\"data row2 col0\" >Original Data</td>\n",
       "                        <td id=\"T_608ed_row2_col1\" class=\"data row2 col1\" >(110409, 24)</td>\n",
       "            </tr>\n",
       "            <tr>\n",
       "                        <th id=\"T_608ed_level0_row3\" class=\"row_heading level0 row3\" >3</th>\n",
       "                        <td id=\"T_608ed_row3_col0\" class=\"data row3 col0\" >Missing Values</td>\n",
       "                        <td id=\"T_608ed_row3_col1\" class=\"data row3 col1\" >False</td>\n",
       "            </tr>\n",
       "            <tr>\n",
       "                        <th id=\"T_608ed_level0_row4\" class=\"row_heading level0 row4\" >4</th>\n",
       "                        <td id=\"T_608ed_row4_col0\" class=\"data row4 col0\" >Numeric Features</td>\n",
       "                        <td id=\"T_608ed_row4_col1\" class=\"data row4 col1\" >20</td>\n",
       "            </tr>\n",
       "            <tr>\n",
       "                        <th id=\"T_608ed_level0_row5\" class=\"row_heading level0 row5\" >5</th>\n",
       "                        <td id=\"T_608ed_row5_col0\" class=\"data row5 col0\" >Categorical Features</td>\n",
       "                        <td id=\"T_608ed_row5_col1\" class=\"data row5 col1\" >3</td>\n",
       "            </tr>\n",
       "            <tr>\n",
       "                        <th id=\"T_608ed_level0_row6\" class=\"row_heading level0 row6\" >6</th>\n",
       "                        <td id=\"T_608ed_row6_col0\" class=\"data row6 col0\" >Ordinal Features</td>\n",
       "                        <td id=\"T_608ed_row6_col1\" class=\"data row6 col1\" >False</td>\n",
       "            </tr>\n",
       "            <tr>\n",
       "                        <th id=\"T_608ed_level0_row7\" class=\"row_heading level0 row7\" >7</th>\n",
       "                        <td id=\"T_608ed_row7_col0\" class=\"data row7 col0\" >High Cardinality Features</td>\n",
       "                        <td id=\"T_608ed_row7_col1\" class=\"data row7 col1\" >False</td>\n",
       "            </tr>\n",
       "            <tr>\n",
       "                        <th id=\"T_608ed_level0_row8\" class=\"row_heading level0 row8\" >8</th>\n",
       "                        <td id=\"T_608ed_row8_col0\" class=\"data row8 col0\" >High Cardinality Method</td>\n",
       "                        <td id=\"T_608ed_row8_col1\" class=\"data row8 col1\" >None</td>\n",
       "            </tr>\n",
       "            <tr>\n",
       "                        <th id=\"T_608ed_level0_row9\" class=\"row_heading level0 row9\" >9</th>\n",
       "                        <td id=\"T_608ed_row9_col0\" class=\"data row9 col0\" >Transformed Train Set</td>\n",
       "                        <td id=\"T_608ed_row9_col1\" class=\"data row9 col1\" >(88327, 31)</td>\n",
       "            </tr>\n",
       "            <tr>\n",
       "                        <th id=\"T_608ed_level0_row10\" class=\"row_heading level0 row10\" >10</th>\n",
       "                        <td id=\"T_608ed_row10_col0\" class=\"data row10 col0\" >Transformed Test Set</td>\n",
       "                        <td id=\"T_608ed_row10_col1\" class=\"data row10 col1\" >(22082, 31)</td>\n",
       "            </tr>\n",
       "            <tr>\n",
       "                        <th id=\"T_608ed_level0_row11\" class=\"row_heading level0 row11\" >11</th>\n",
       "                        <td id=\"T_608ed_row11_col0\" class=\"data row11 col0\" >Shuffle Train-Test</td>\n",
       "                        <td id=\"T_608ed_row11_col1\" class=\"data row11 col1\" >True</td>\n",
       "            </tr>\n",
       "            <tr>\n",
       "                        <th id=\"T_608ed_level0_row12\" class=\"row_heading level0 row12\" >12</th>\n",
       "                        <td id=\"T_608ed_row12_col0\" class=\"data row12 col0\" >Stratify Train-Test</td>\n",
       "                        <td id=\"T_608ed_row12_col1\" class=\"data row12 col1\" >False</td>\n",
       "            </tr>\n",
       "            <tr>\n",
       "                        <th id=\"T_608ed_level0_row13\" class=\"row_heading level0 row13\" >13</th>\n",
       "                        <td id=\"T_608ed_row13_col0\" class=\"data row13 col0\" >Fold Generator</td>\n",
       "                        <td id=\"T_608ed_row13_col1\" class=\"data row13 col1\" >KFold</td>\n",
       "            </tr>\n",
       "            <tr>\n",
       "                        <th id=\"T_608ed_level0_row14\" class=\"row_heading level0 row14\" >14</th>\n",
       "                        <td id=\"T_608ed_row14_col0\" class=\"data row14 col0\" >Fold Number</td>\n",
       "                        <td id=\"T_608ed_row14_col1\" class=\"data row14 col1\" >5</td>\n",
       "            </tr>\n",
       "            <tr>\n",
       "                        <th id=\"T_608ed_level0_row15\" class=\"row_heading level0 row15\" >15</th>\n",
       "                        <td id=\"T_608ed_row15_col0\" class=\"data row15 col0\" >CPU Jobs</td>\n",
       "                        <td id=\"T_608ed_row15_col1\" class=\"data row15 col1\" >-1</td>\n",
       "            </tr>\n",
       "            <tr>\n",
       "                        <th id=\"T_608ed_level0_row16\" class=\"row_heading level0 row16\" >16</th>\n",
       "                        <td id=\"T_608ed_row16_col0\" class=\"data row16 col0\" >Use GPU</td>\n",
       "                        <td id=\"T_608ed_row16_col1\" class=\"data row16 col1\" >False</td>\n",
       "            </tr>\n",
       "            <tr>\n",
       "                        <th id=\"T_608ed_level0_row17\" class=\"row_heading level0 row17\" >17</th>\n",
       "                        <td id=\"T_608ed_row17_col0\" class=\"data row17 col0\" >Log Experiment</td>\n",
       "                        <td id=\"T_608ed_row17_col1\" class=\"data row17 col1\" >False</td>\n",
       "            </tr>\n",
       "            <tr>\n",
       "                        <th id=\"T_608ed_level0_row18\" class=\"row_heading level0 row18\" >18</th>\n",
       "                        <td id=\"T_608ed_row18_col0\" class=\"data row18 col0\" >Experiment Name</td>\n",
       "                        <td id=\"T_608ed_row18_col1\" class=\"data row18 col1\" >reg-default-name</td>\n",
       "            </tr>\n",
       "            <tr>\n",
       "                        <th id=\"T_608ed_level0_row19\" class=\"row_heading level0 row19\" >19</th>\n",
       "                        <td id=\"T_608ed_row19_col0\" class=\"data row19 col0\" >USI</td>\n",
       "                        <td id=\"T_608ed_row19_col1\" class=\"data row19 col1\" >fb1b</td>\n",
       "            </tr>\n",
       "            <tr>\n",
       "                        <th id=\"T_608ed_level0_row20\" class=\"row_heading level0 row20\" >20</th>\n",
       "                        <td id=\"T_608ed_row20_col0\" class=\"data row20 col0\" >Imputation Type</td>\n",
       "                        <td id=\"T_608ed_row20_col1\" class=\"data row20 col1\" >simple</td>\n",
       "            </tr>\n",
       "            <tr>\n",
       "                        <th id=\"T_608ed_level0_row21\" class=\"row_heading level0 row21\" >21</th>\n",
       "                        <td id=\"T_608ed_row21_col0\" class=\"data row21 col0\" >Iterative Imputation Iteration</td>\n",
       "                        <td id=\"T_608ed_row21_col1\" class=\"data row21 col1\" >None</td>\n",
       "            </tr>\n",
       "            <tr>\n",
       "                        <th id=\"T_608ed_level0_row22\" class=\"row_heading level0 row22\" >22</th>\n",
       "                        <td id=\"T_608ed_row22_col0\" class=\"data row22 col0\" >Numeric Imputer</td>\n",
       "                        <td id=\"T_608ed_row22_col1\" class=\"data row22 col1\" >mean</td>\n",
       "            </tr>\n",
       "            <tr>\n",
       "                        <th id=\"T_608ed_level0_row23\" class=\"row_heading level0 row23\" >23</th>\n",
       "                        <td id=\"T_608ed_row23_col0\" class=\"data row23 col0\" >Iterative Imputation Numeric Model</td>\n",
       "                        <td id=\"T_608ed_row23_col1\" class=\"data row23 col1\" >None</td>\n",
       "            </tr>\n",
       "            <tr>\n",
       "                        <th id=\"T_608ed_level0_row24\" class=\"row_heading level0 row24\" >24</th>\n",
       "                        <td id=\"T_608ed_row24_col0\" class=\"data row24 col0\" >Categorical Imputer</td>\n",
       "                        <td id=\"T_608ed_row24_col1\" class=\"data row24 col1\" >constant</td>\n",
       "            </tr>\n",
       "            <tr>\n",
       "                        <th id=\"T_608ed_level0_row25\" class=\"row_heading level0 row25\" >25</th>\n",
       "                        <td id=\"T_608ed_row25_col0\" class=\"data row25 col0\" >Iterative Imputation Categorical Model</td>\n",
       "                        <td id=\"T_608ed_row25_col1\" class=\"data row25 col1\" >None</td>\n",
       "            </tr>\n",
       "            <tr>\n",
       "                        <th id=\"T_608ed_level0_row26\" class=\"row_heading level0 row26\" >26</th>\n",
       "                        <td id=\"T_608ed_row26_col0\" class=\"data row26 col0\" >Unknown Categoricals Handling</td>\n",
       "                        <td id=\"T_608ed_row26_col1\" class=\"data row26 col1\" >least_frequent</td>\n",
       "            </tr>\n",
       "            <tr>\n",
       "                        <th id=\"T_608ed_level0_row27\" class=\"row_heading level0 row27\" >27</th>\n",
       "                        <td id=\"T_608ed_row27_col0\" class=\"data row27 col0\" >Normalize</td>\n",
       "                        <td id=\"T_608ed_row27_col1\" class=\"data row27 col1\" >False</td>\n",
       "            </tr>\n",
       "            <tr>\n",
       "                        <th id=\"T_608ed_level0_row28\" class=\"row_heading level0 row28\" >28</th>\n",
       "                        <td id=\"T_608ed_row28_col0\" class=\"data row28 col0\" >Normalize Method</td>\n",
       "                        <td id=\"T_608ed_row28_col1\" class=\"data row28 col1\" >None</td>\n",
       "            </tr>\n",
       "            <tr>\n",
       "                        <th id=\"T_608ed_level0_row29\" class=\"row_heading level0 row29\" >29</th>\n",
       "                        <td id=\"T_608ed_row29_col0\" class=\"data row29 col0\" >Transformation</td>\n",
       "                        <td id=\"T_608ed_row29_col1\" class=\"data row29 col1\" >False</td>\n",
       "            </tr>\n",
       "            <tr>\n",
       "                        <th id=\"T_608ed_level0_row30\" class=\"row_heading level0 row30\" >30</th>\n",
       "                        <td id=\"T_608ed_row30_col0\" class=\"data row30 col0\" >Transformation Method</td>\n",
       "                        <td id=\"T_608ed_row30_col1\" class=\"data row30 col1\" >None</td>\n",
       "            </tr>\n",
       "            <tr>\n",
       "                        <th id=\"T_608ed_level0_row31\" class=\"row_heading level0 row31\" >31</th>\n",
       "                        <td id=\"T_608ed_row31_col0\" class=\"data row31 col0\" >PCA</td>\n",
       "                        <td id=\"T_608ed_row31_col1\" class=\"data row31 col1\" >False</td>\n",
       "            </tr>\n",
       "            <tr>\n",
       "                        <th id=\"T_608ed_level0_row32\" class=\"row_heading level0 row32\" >32</th>\n",
       "                        <td id=\"T_608ed_row32_col0\" class=\"data row32 col0\" >PCA Method</td>\n",
       "                        <td id=\"T_608ed_row32_col1\" class=\"data row32 col1\" >None</td>\n",
       "            </tr>\n",
       "            <tr>\n",
       "                        <th id=\"T_608ed_level0_row33\" class=\"row_heading level0 row33\" >33</th>\n",
       "                        <td id=\"T_608ed_row33_col0\" class=\"data row33 col0\" >PCA Components</td>\n",
       "                        <td id=\"T_608ed_row33_col1\" class=\"data row33 col1\" >None</td>\n",
       "            </tr>\n",
       "            <tr>\n",
       "                        <th id=\"T_608ed_level0_row34\" class=\"row_heading level0 row34\" >34</th>\n",
       "                        <td id=\"T_608ed_row34_col0\" class=\"data row34 col0\" >Ignore Low Variance</td>\n",
       "                        <td id=\"T_608ed_row34_col1\" class=\"data row34 col1\" >False</td>\n",
       "            </tr>\n",
       "            <tr>\n",
       "                        <th id=\"T_608ed_level0_row35\" class=\"row_heading level0 row35\" >35</th>\n",
       "                        <td id=\"T_608ed_row35_col0\" class=\"data row35 col0\" >Combine Rare Levels</td>\n",
       "                        <td id=\"T_608ed_row35_col1\" class=\"data row35 col1\" >False</td>\n",
       "            </tr>\n",
       "            <tr>\n",
       "                        <th id=\"T_608ed_level0_row36\" class=\"row_heading level0 row36\" >36</th>\n",
       "                        <td id=\"T_608ed_row36_col0\" class=\"data row36 col0\" >Rare Level Threshold</td>\n",
       "                        <td id=\"T_608ed_row36_col1\" class=\"data row36 col1\" >None</td>\n",
       "            </tr>\n",
       "            <tr>\n",
       "                        <th id=\"T_608ed_level0_row37\" class=\"row_heading level0 row37\" >37</th>\n",
       "                        <td id=\"T_608ed_row37_col0\" class=\"data row37 col0\" >Numeric Binning</td>\n",
       "                        <td id=\"T_608ed_row37_col1\" class=\"data row37 col1\" >False</td>\n",
       "            </tr>\n",
       "            <tr>\n",
       "                        <th id=\"T_608ed_level0_row38\" class=\"row_heading level0 row38\" >38</th>\n",
       "                        <td id=\"T_608ed_row38_col0\" class=\"data row38 col0\" >Remove Outliers</td>\n",
       "                        <td id=\"T_608ed_row38_col1\" class=\"data row38 col1\" >False</td>\n",
       "            </tr>\n",
       "            <tr>\n",
       "                        <th id=\"T_608ed_level0_row39\" class=\"row_heading level0 row39\" >39</th>\n",
       "                        <td id=\"T_608ed_row39_col0\" class=\"data row39 col0\" >Outliers Threshold</td>\n",
       "                        <td id=\"T_608ed_row39_col1\" class=\"data row39 col1\" >None</td>\n",
       "            </tr>\n",
       "            <tr>\n",
       "                        <th id=\"T_608ed_level0_row40\" class=\"row_heading level0 row40\" >40</th>\n",
       "                        <td id=\"T_608ed_row40_col0\" class=\"data row40 col0\" >Remove Multicollinearity</td>\n",
       "                        <td id=\"T_608ed_row40_col1\" class=\"data row40 col1\" >False</td>\n",
       "            </tr>\n",
       "            <tr>\n",
       "                        <th id=\"T_608ed_level0_row41\" class=\"row_heading level0 row41\" >41</th>\n",
       "                        <td id=\"T_608ed_row41_col0\" class=\"data row41 col0\" >Multicollinearity Threshold</td>\n",
       "                        <td id=\"T_608ed_row41_col1\" class=\"data row41 col1\" >None</td>\n",
       "            </tr>\n",
       "            <tr>\n",
       "                        <th id=\"T_608ed_level0_row42\" class=\"row_heading level0 row42\" >42</th>\n",
       "                        <td id=\"T_608ed_row42_col0\" class=\"data row42 col0\" >Remove Perfect Collinearity</td>\n",
       "                        <td id=\"T_608ed_row42_col1\" class=\"data row42 col1\" >True</td>\n",
       "            </tr>\n",
       "            <tr>\n",
       "                        <th id=\"T_608ed_level0_row43\" class=\"row_heading level0 row43\" >43</th>\n",
       "                        <td id=\"T_608ed_row43_col0\" class=\"data row43 col0\" >Clustering</td>\n",
       "                        <td id=\"T_608ed_row43_col1\" class=\"data row43 col1\" >False</td>\n",
       "            </tr>\n",
       "            <tr>\n",
       "                        <th id=\"T_608ed_level0_row44\" class=\"row_heading level0 row44\" >44</th>\n",
       "                        <td id=\"T_608ed_row44_col0\" class=\"data row44 col0\" >Clustering Iteration</td>\n",
       "                        <td id=\"T_608ed_row44_col1\" class=\"data row44 col1\" >None</td>\n",
       "            </tr>\n",
       "            <tr>\n",
       "                        <th id=\"T_608ed_level0_row45\" class=\"row_heading level0 row45\" >45</th>\n",
       "                        <td id=\"T_608ed_row45_col0\" class=\"data row45 col0\" >Polynomial Features</td>\n",
       "                        <td id=\"T_608ed_row45_col1\" class=\"data row45 col1\" >False</td>\n",
       "            </tr>\n",
       "            <tr>\n",
       "                        <th id=\"T_608ed_level0_row46\" class=\"row_heading level0 row46\" >46</th>\n",
       "                        <td id=\"T_608ed_row46_col0\" class=\"data row46 col0\" >Polynomial Degree</td>\n",
       "                        <td id=\"T_608ed_row46_col1\" class=\"data row46 col1\" >None</td>\n",
       "            </tr>\n",
       "            <tr>\n",
       "                        <th id=\"T_608ed_level0_row47\" class=\"row_heading level0 row47\" >47</th>\n",
       "                        <td id=\"T_608ed_row47_col0\" class=\"data row47 col0\" >Trignometry Features</td>\n",
       "                        <td id=\"T_608ed_row47_col1\" class=\"data row47 col1\" >False</td>\n",
       "            </tr>\n",
       "            <tr>\n",
       "                        <th id=\"T_608ed_level0_row48\" class=\"row_heading level0 row48\" >48</th>\n",
       "                        <td id=\"T_608ed_row48_col0\" class=\"data row48 col0\" >Polynomial Threshold</td>\n",
       "                        <td id=\"T_608ed_row48_col1\" class=\"data row48 col1\" >None</td>\n",
       "            </tr>\n",
       "            <tr>\n",
       "                        <th id=\"T_608ed_level0_row49\" class=\"row_heading level0 row49\" >49</th>\n",
       "                        <td id=\"T_608ed_row49_col0\" class=\"data row49 col0\" >Group Features</td>\n",
       "                        <td id=\"T_608ed_row49_col1\" class=\"data row49 col1\" >False</td>\n",
       "            </tr>\n",
       "            <tr>\n",
       "                        <th id=\"T_608ed_level0_row50\" class=\"row_heading level0 row50\" >50</th>\n",
       "                        <td id=\"T_608ed_row50_col0\" class=\"data row50 col0\" >Feature Selection</td>\n",
       "                        <td id=\"T_608ed_row50_col1\" class=\"data row50 col1\" >False</td>\n",
       "            </tr>\n",
       "            <tr>\n",
       "                        <th id=\"T_608ed_level0_row51\" class=\"row_heading level0 row51\" >51</th>\n",
       "                        <td id=\"T_608ed_row51_col0\" class=\"data row51 col0\" >Feature Selection Method</td>\n",
       "                        <td id=\"T_608ed_row51_col1\" class=\"data row51 col1\" >classic</td>\n",
       "            </tr>\n",
       "            <tr>\n",
       "                        <th id=\"T_608ed_level0_row52\" class=\"row_heading level0 row52\" >52</th>\n",
       "                        <td id=\"T_608ed_row52_col0\" class=\"data row52 col0\" >Features Selection Threshold</td>\n",
       "                        <td id=\"T_608ed_row52_col1\" class=\"data row52 col1\" >None</td>\n",
       "            </tr>\n",
       "            <tr>\n",
       "                        <th id=\"T_608ed_level0_row53\" class=\"row_heading level0 row53\" >53</th>\n",
       "                        <td id=\"T_608ed_row53_col0\" class=\"data row53 col0\" >Feature Interaction</td>\n",
       "                        <td id=\"T_608ed_row53_col1\" class=\"data row53 col1\" >False</td>\n",
       "            </tr>\n",
       "            <tr>\n",
       "                        <th id=\"T_608ed_level0_row54\" class=\"row_heading level0 row54\" >54</th>\n",
       "                        <td id=\"T_608ed_row54_col0\" class=\"data row54 col0\" >Feature Ratio</td>\n",
       "                        <td id=\"T_608ed_row54_col1\" class=\"data row54 col1\" >False</td>\n",
       "            </tr>\n",
       "            <tr>\n",
       "                        <th id=\"T_608ed_level0_row55\" class=\"row_heading level0 row55\" >55</th>\n",
       "                        <td id=\"T_608ed_row55_col0\" class=\"data row55 col0\" >Interaction Threshold</td>\n",
       "                        <td id=\"T_608ed_row55_col1\" class=\"data row55 col1\" >None</td>\n",
       "            </tr>\n",
       "            <tr>\n",
       "                        <th id=\"T_608ed_level0_row56\" class=\"row_heading level0 row56\" >56</th>\n",
       "                        <td id=\"T_608ed_row56_col0\" class=\"data row56 col0\" >Transform Target</td>\n",
       "                        <td id=\"T_608ed_row56_col1\" class=\"data row56 col1\" >False</td>\n",
       "            </tr>\n",
       "            <tr>\n",
       "                        <th id=\"T_608ed_level0_row57\" class=\"row_heading level0 row57\" >57</th>\n",
       "                        <td id=\"T_608ed_row57_col0\" class=\"data row57 col0\" >Transform Target Method</td>\n",
       "                        <td id=\"T_608ed_row57_col1\" class=\"data row57 col1\" >box-cox</td>\n",
       "            </tr>\n",
       "    </tbody></table>"
      ],
      "text/plain": [
       "<pandas.io.formats.style.Styler at 0x15545533a90>"
      ]
     },
     "metadata": {},
     "output_type": "display_data"
    },
    {
     "name": "stdout",
     "output_type": "stream",
     "text": [
      "setup 완료\n"
     ]
    }
   ],
   "source": [
    "from pycaret.regression import * \n",
    "setup(data=train_df, train_size=0.8, silent=True, fold=5, target='time_survived', categorical_features=cat_columns, numeric_features=num_columns)\n",
    "print('setup 완료')"
   ]
  },
  {
   "cell_type": "markdown",
   "id": "12a6d000",
   "metadata": {},
   "source": [
    "### 4.2. metric 확인"
   ]
  },
  {
   "cell_type": "code",
   "execution_count": 105,
   "id": "247ca274",
   "metadata": {
    "ExecuteTime": {
     "end_time": "2021-09-07T18:28:55.567016Z",
     "start_time": "2021-09-07T18:28:55.547061Z"
    }
   },
   "outputs": [
    {
     "data": {
      "text/html": [
       "<div>\n",
       "<style scoped>\n",
       "    .dataframe tbody tr th:only-of-type {\n",
       "        vertical-align: middle;\n",
       "    }\n",
       "\n",
       "    .dataframe tbody tr th {\n",
       "        vertical-align: top;\n",
       "    }\n",
       "\n",
       "    .dataframe thead th {\n",
       "        text-align: right;\n",
       "    }\n",
       "</style>\n",
       "<table border=\"1\" class=\"dataframe\">\n",
       "  <thead>\n",
       "    <tr style=\"text-align: right;\">\n",
       "      <th></th>\n",
       "      <th>Name</th>\n",
       "      <th>Display Name</th>\n",
       "      <th>Score Function</th>\n",
       "      <th>Scorer</th>\n",
       "      <th>Target</th>\n",
       "      <th>Args</th>\n",
       "      <th>Greater is Better</th>\n",
       "      <th>Custom</th>\n",
       "    </tr>\n",
       "    <tr>\n",
       "      <th>ID</th>\n",
       "      <th></th>\n",
       "      <th></th>\n",
       "      <th></th>\n",
       "      <th></th>\n",
       "      <th></th>\n",
       "      <th></th>\n",
       "      <th></th>\n",
       "      <th></th>\n",
       "    </tr>\n",
       "  </thead>\n",
       "  <tbody>\n",
       "    <tr>\n",
       "      <th>mae</th>\n",
       "      <td>MAE</td>\n",
       "      <td>MAE</td>\n",
       "      <td>&lt;function mean_absolute_error at 0x0000015402E...</td>\n",
       "      <td>neg_mean_absolute_error</td>\n",
       "      <td>pred</td>\n",
       "      <td>{}</td>\n",
       "      <td>False</td>\n",
       "      <td>False</td>\n",
       "    </tr>\n",
       "    <tr>\n",
       "      <th>mse</th>\n",
       "      <td>MSE</td>\n",
       "      <td>MSE</td>\n",
       "      <td>&lt;function mean_squared_error at 0x0000015402E7...</td>\n",
       "      <td>neg_mean_squared_error</td>\n",
       "      <td>pred</td>\n",
       "      <td>{}</td>\n",
       "      <td>False</td>\n",
       "      <td>False</td>\n",
       "    </tr>\n",
       "    <tr>\n",
       "      <th>rmse</th>\n",
       "      <td>RMSE</td>\n",
       "      <td>RMSE</td>\n",
       "      <td>&lt;function mean_squared_error at 0x0000015402E7...</td>\n",
       "      <td>neg_root_mean_squared_error</td>\n",
       "      <td>pred</td>\n",
       "      <td>{'squared': False}</td>\n",
       "      <td>False</td>\n",
       "      <td>False</td>\n",
       "    </tr>\n",
       "    <tr>\n",
       "      <th>r2</th>\n",
       "      <td>R2</td>\n",
       "      <td>R2</td>\n",
       "      <td>&lt;function r2_score at 0x0000015402E729D0&gt;</td>\n",
       "      <td>r2</td>\n",
       "      <td>pred</td>\n",
       "      <td>{}</td>\n",
       "      <td>True</td>\n",
       "      <td>False</td>\n",
       "    </tr>\n",
       "    <tr>\n",
       "      <th>rmsle</th>\n",
       "      <td>RMSLE</td>\n",
       "      <td>RMSLE</td>\n",
       "      <td>&lt;function RMSLEMetricContainer.__init__.&lt;local...</td>\n",
       "      <td>make_scorer(root_mean_squared_log_error, great...</td>\n",
       "      <td>pred</td>\n",
       "      <td>{}</td>\n",
       "      <td>False</td>\n",
       "      <td>False</td>\n",
       "    </tr>\n",
       "    <tr>\n",
       "      <th>mape</th>\n",
       "      <td>MAPE</td>\n",
       "      <td>MAPE</td>\n",
       "      <td>&lt;function MAPEMetricContainer.__init__.&lt;locals...</td>\n",
       "      <td>make_scorer(mean_absolute_percentage_error, gr...</td>\n",
       "      <td>pred</td>\n",
       "      <td>{}</td>\n",
       "      <td>False</td>\n",
       "      <td>False</td>\n",
       "    </tr>\n",
       "  </tbody>\n",
       "</table>\n",
       "</div>"
      ],
      "text/plain": [
       "        Name Display Name                                     Score Function  \\\n",
       "ID                                                                             \n",
       "mae      MAE          MAE  <function mean_absolute_error at 0x0000015402E...   \n",
       "mse      MSE          MSE  <function mean_squared_error at 0x0000015402E7...   \n",
       "rmse    RMSE         RMSE  <function mean_squared_error at 0x0000015402E7...   \n",
       "r2        R2           R2          <function r2_score at 0x0000015402E729D0>   \n",
       "rmsle  RMSLE        RMSLE  <function RMSLEMetricContainer.__init__.<local...   \n",
       "mape    MAPE         MAPE  <function MAPEMetricContainer.__init__.<locals...   \n",
       "\n",
       "                                                  Scorer Target  \\\n",
       "ID                                                                \n",
       "mae                              neg_mean_absolute_error   pred   \n",
       "mse                               neg_mean_squared_error   pred   \n",
       "rmse                         neg_root_mean_squared_error   pred   \n",
       "r2                                                    r2   pred   \n",
       "rmsle  make_scorer(root_mean_squared_log_error, great...   pred   \n",
       "mape   make_scorer(mean_absolute_percentage_error, gr...   pred   \n",
       "\n",
       "                     Args  Greater is Better  Custom  \n",
       "ID                                                    \n",
       "mae                    {}              False   False  \n",
       "mse                    {}              False   False  \n",
       "rmse   {'squared': False}              False   False  \n",
       "r2                     {}               True   False  \n",
       "rmsle                  {}              False   False  \n",
       "mape                   {}              False   False  "
      ]
     },
     "execution_count": 105,
     "metadata": {},
     "output_type": "execute_result"
    }
   ],
   "source": [
    "get_metrics()"
   ]
  },
  {
   "cell_type": "markdown",
   "id": "281beac5",
   "metadata": {},
   "source": [
    "### 4.3. 사용가능 모델"
   ]
  },
  {
   "cell_type": "code",
   "execution_count": 107,
   "id": "5fb11146",
   "metadata": {
    "ExecuteTime": {
     "end_time": "2021-09-07T18:30:14.777156Z",
     "start_time": "2021-09-07T18:30:14.636501Z"
    }
   },
   "outputs": [
    {
     "data": {
      "text/html": [
       "<div>\n",
       "<style scoped>\n",
       "    .dataframe tbody tr th:only-of-type {\n",
       "        vertical-align: middle;\n",
       "    }\n",
       "\n",
       "    .dataframe tbody tr th {\n",
       "        vertical-align: top;\n",
       "    }\n",
       "\n",
       "    .dataframe thead th {\n",
       "        text-align: right;\n",
       "    }\n",
       "</style>\n",
       "<table border=\"1\" class=\"dataframe\">\n",
       "  <thead>\n",
       "    <tr style=\"text-align: right;\">\n",
       "      <th></th>\n",
       "      <th>Name</th>\n",
       "      <th>Reference</th>\n",
       "      <th>Turbo</th>\n",
       "    </tr>\n",
       "    <tr>\n",
       "      <th>ID</th>\n",
       "      <th></th>\n",
       "      <th></th>\n",
       "      <th></th>\n",
       "    </tr>\n",
       "  </thead>\n",
       "  <tbody>\n",
       "    <tr>\n",
       "      <th>lr</th>\n",
       "      <td>Linear Regression</td>\n",
       "      <td>sklearn.linear_model._base.LinearRegression</td>\n",
       "      <td>True</td>\n",
       "    </tr>\n",
       "    <tr>\n",
       "      <th>lasso</th>\n",
       "      <td>Lasso Regression</td>\n",
       "      <td>sklearn.linear_model._coordinate_descent.Lasso</td>\n",
       "      <td>True</td>\n",
       "    </tr>\n",
       "    <tr>\n",
       "      <th>ridge</th>\n",
       "      <td>Ridge Regression</td>\n",
       "      <td>sklearn.linear_model._ridge.Ridge</td>\n",
       "      <td>True</td>\n",
       "    </tr>\n",
       "    <tr>\n",
       "      <th>en</th>\n",
       "      <td>Elastic Net</td>\n",
       "      <td>sklearn.linear_model._coordinate_descent.Elast...</td>\n",
       "      <td>True</td>\n",
       "    </tr>\n",
       "    <tr>\n",
       "      <th>lar</th>\n",
       "      <td>Least Angle Regression</td>\n",
       "      <td>sklearn.linear_model._least_angle.Lars</td>\n",
       "      <td>True</td>\n",
       "    </tr>\n",
       "    <tr>\n",
       "      <th>llar</th>\n",
       "      <td>Lasso Least Angle Regression</td>\n",
       "      <td>sklearn.linear_model._least_angle.LassoLars</td>\n",
       "      <td>True</td>\n",
       "    </tr>\n",
       "    <tr>\n",
       "      <th>omp</th>\n",
       "      <td>Orthogonal Matching Pursuit</td>\n",
       "      <td>sklearn.linear_model._omp.OrthogonalMatchingPu...</td>\n",
       "      <td>True</td>\n",
       "    </tr>\n",
       "    <tr>\n",
       "      <th>br</th>\n",
       "      <td>Bayesian Ridge</td>\n",
       "      <td>sklearn.linear_model._bayes.BayesianRidge</td>\n",
       "      <td>True</td>\n",
       "    </tr>\n",
       "    <tr>\n",
       "      <th>ard</th>\n",
       "      <td>Automatic Relevance Determination</td>\n",
       "      <td>sklearn.linear_model._bayes.ARDRegression</td>\n",
       "      <td>False</td>\n",
       "    </tr>\n",
       "    <tr>\n",
       "      <th>par</th>\n",
       "      <td>Passive Aggressive Regressor</td>\n",
       "      <td>sklearn.linear_model._passive_aggressive.Passi...</td>\n",
       "      <td>True</td>\n",
       "    </tr>\n",
       "    <tr>\n",
       "      <th>ransac</th>\n",
       "      <td>Random Sample Consensus</td>\n",
       "      <td>sklearn.linear_model._ransac.RANSACRegressor</td>\n",
       "      <td>False</td>\n",
       "    </tr>\n",
       "    <tr>\n",
       "      <th>tr</th>\n",
       "      <td>TheilSen Regressor</td>\n",
       "      <td>sklearn.linear_model._theil_sen.TheilSenRegressor</td>\n",
       "      <td>False</td>\n",
       "    </tr>\n",
       "    <tr>\n",
       "      <th>huber</th>\n",
       "      <td>Huber Regressor</td>\n",
       "      <td>sklearn.linear_model._huber.HuberRegressor</td>\n",
       "      <td>True</td>\n",
       "    </tr>\n",
       "    <tr>\n",
       "      <th>kr</th>\n",
       "      <td>Kernel Ridge</td>\n",
       "      <td>sklearn.kernel_ridge.KernelRidge</td>\n",
       "      <td>False</td>\n",
       "    </tr>\n",
       "    <tr>\n",
       "      <th>svm</th>\n",
       "      <td>Support Vector Regression</td>\n",
       "      <td>sklearn.svm._classes.SVR</td>\n",
       "      <td>False</td>\n",
       "    </tr>\n",
       "    <tr>\n",
       "      <th>knn</th>\n",
       "      <td>K Neighbors Regressor</td>\n",
       "      <td>sklearn.neighbors._regression.KNeighborsRegressor</td>\n",
       "      <td>True</td>\n",
       "    </tr>\n",
       "    <tr>\n",
       "      <th>dt</th>\n",
       "      <td>Decision Tree Regressor</td>\n",
       "      <td>sklearn.tree._classes.DecisionTreeRegressor</td>\n",
       "      <td>True</td>\n",
       "    </tr>\n",
       "    <tr>\n",
       "      <th>rf</th>\n",
       "      <td>Random Forest Regressor</td>\n",
       "      <td>sklearn.ensemble._forest.RandomForestRegressor</td>\n",
       "      <td>True</td>\n",
       "    </tr>\n",
       "    <tr>\n",
       "      <th>et</th>\n",
       "      <td>Extra Trees Regressor</td>\n",
       "      <td>sklearn.ensemble._forest.ExtraTreesRegressor</td>\n",
       "      <td>True</td>\n",
       "    </tr>\n",
       "    <tr>\n",
       "      <th>ada</th>\n",
       "      <td>AdaBoost Regressor</td>\n",
       "      <td>sklearn.ensemble._weight_boosting.AdaBoostRegr...</td>\n",
       "      <td>True</td>\n",
       "    </tr>\n",
       "    <tr>\n",
       "      <th>gbr</th>\n",
       "      <td>Gradient Boosting Regressor</td>\n",
       "      <td>sklearn.ensemble._gb.GradientBoostingRegressor</td>\n",
       "      <td>True</td>\n",
       "    </tr>\n",
       "    <tr>\n",
       "      <th>mlp</th>\n",
       "      <td>MLP Regressor</td>\n",
       "      <td>sklearn.neural_network._multilayer_perceptron....</td>\n",
       "      <td>False</td>\n",
       "    </tr>\n",
       "    <tr>\n",
       "      <th>xgboost</th>\n",
       "      <td>Extreme Gradient Boosting</td>\n",
       "      <td>xgboost.sklearn.XGBRegressor</td>\n",
       "      <td>True</td>\n",
       "    </tr>\n",
       "    <tr>\n",
       "      <th>lightgbm</th>\n",
       "      <td>Light Gradient Boosting Machine</td>\n",
       "      <td>lightgbm.sklearn.LGBMRegressor</td>\n",
       "      <td>True</td>\n",
       "    </tr>\n",
       "    <tr>\n",
       "      <th>catboost</th>\n",
       "      <td>CatBoost Regressor</td>\n",
       "      <td>catboost.core.CatBoostRegressor</td>\n",
       "      <td>True</td>\n",
       "    </tr>\n",
       "  </tbody>\n",
       "</table>\n",
       "</div>"
      ],
      "text/plain": [
       "                                       Name  \\\n",
       "ID                                            \n",
       "lr                        Linear Regression   \n",
       "lasso                      Lasso Regression   \n",
       "ridge                      Ridge Regression   \n",
       "en                              Elastic Net   \n",
       "lar                  Least Angle Regression   \n",
       "llar           Lasso Least Angle Regression   \n",
       "omp             Orthogonal Matching Pursuit   \n",
       "br                           Bayesian Ridge   \n",
       "ard       Automatic Relevance Determination   \n",
       "par            Passive Aggressive Regressor   \n",
       "ransac              Random Sample Consensus   \n",
       "tr                       TheilSen Regressor   \n",
       "huber                       Huber Regressor   \n",
       "kr                             Kernel Ridge   \n",
       "svm               Support Vector Regression   \n",
       "knn                   K Neighbors Regressor   \n",
       "dt                  Decision Tree Regressor   \n",
       "rf                  Random Forest Regressor   \n",
       "et                    Extra Trees Regressor   \n",
       "ada                      AdaBoost Regressor   \n",
       "gbr             Gradient Boosting Regressor   \n",
       "mlp                           MLP Regressor   \n",
       "xgboost           Extreme Gradient Boosting   \n",
       "lightgbm    Light Gradient Boosting Machine   \n",
       "catboost                 CatBoost Regressor   \n",
       "\n",
       "                                                  Reference  Turbo  \n",
       "ID                                                                  \n",
       "lr              sklearn.linear_model._base.LinearRegression   True  \n",
       "lasso        sklearn.linear_model._coordinate_descent.Lasso   True  \n",
       "ridge                     sklearn.linear_model._ridge.Ridge   True  \n",
       "en        sklearn.linear_model._coordinate_descent.Elast...   True  \n",
       "lar                  sklearn.linear_model._least_angle.Lars   True  \n",
       "llar            sklearn.linear_model._least_angle.LassoLars   True  \n",
       "omp       sklearn.linear_model._omp.OrthogonalMatchingPu...   True  \n",
       "br                sklearn.linear_model._bayes.BayesianRidge   True  \n",
       "ard               sklearn.linear_model._bayes.ARDRegression  False  \n",
       "par       sklearn.linear_model._passive_aggressive.Passi...   True  \n",
       "ransac         sklearn.linear_model._ransac.RANSACRegressor  False  \n",
       "tr        sklearn.linear_model._theil_sen.TheilSenRegressor  False  \n",
       "huber            sklearn.linear_model._huber.HuberRegressor   True  \n",
       "kr                         sklearn.kernel_ridge.KernelRidge  False  \n",
       "svm                                sklearn.svm._classes.SVR  False  \n",
       "knn       sklearn.neighbors._regression.KNeighborsRegressor   True  \n",
       "dt              sklearn.tree._classes.DecisionTreeRegressor   True  \n",
       "rf           sklearn.ensemble._forest.RandomForestRegressor   True  \n",
       "et             sklearn.ensemble._forest.ExtraTreesRegressor   True  \n",
       "ada       sklearn.ensemble._weight_boosting.AdaBoostRegr...   True  \n",
       "gbr          sklearn.ensemble._gb.GradientBoostingRegressor   True  \n",
       "mlp       sklearn.neural_network._multilayer_perceptron....  False  \n",
       "xgboost                        xgboost.sklearn.XGBRegressor   True  \n",
       "lightgbm                     lightgbm.sklearn.LGBMRegressor   True  \n",
       "catboost                    catboost.core.CatBoostRegressor   True  "
      ]
     },
     "execution_count": 107,
     "metadata": {},
     "output_type": "execute_result"
    }
   ],
   "source": [
    "models()"
   ]
  },
  {
   "cell_type": "markdown",
   "id": "6220f803",
   "metadata": {},
   "source": [
    "### 4.4. 모델 비교"
   ]
  },
  {
   "cell_type": "code",
   "execution_count": 109,
   "id": "27cb17ed",
   "metadata": {
    "ExecuteTime": {
     "end_time": "2021-09-07T18:47:48.905435Z",
     "start_time": "2021-09-07T18:31:41.732955Z"
    }
   },
   "outputs": [
    {
     "data": {
      "text/html": [
       "<style  type=\"text/css\" >\n",
       "    #T_2c86a_ th {\n",
       "          text-align: left;\n",
       "    }#T_2c86a_row0_col0,#T_2c86a_row0_col5,#T_2c86a_row0_col6,#T_2c86a_row1_col0,#T_2c86a_row1_col1,#T_2c86a_row1_col2,#T_2c86a_row1_col3,#T_2c86a_row1_col4,#T_2c86a_row1_col5,#T_2c86a_row1_col6,#T_2c86a_row2_col0,#T_2c86a_row2_col1,#T_2c86a_row2_col2,#T_2c86a_row2_col3,#T_2c86a_row2_col4,#T_2c86a_row2_col5,#T_2c86a_row3_col0,#T_2c86a_row3_col1,#T_2c86a_row3_col2,#T_2c86a_row3_col3,#T_2c86a_row3_col4,#T_2c86a_row3_col6,#T_2c86a_row4_col0,#T_2c86a_row4_col1,#T_2c86a_row4_col2,#T_2c86a_row4_col3,#T_2c86a_row4_col4,#T_2c86a_row4_col5,#T_2c86a_row4_col6,#T_2c86a_row5_col0,#T_2c86a_row5_col1,#T_2c86a_row5_col2,#T_2c86a_row5_col3,#T_2c86a_row5_col4,#T_2c86a_row5_col5,#T_2c86a_row5_col6,#T_2c86a_row6_col0,#T_2c86a_row6_col1,#T_2c86a_row6_col2,#T_2c86a_row6_col3,#T_2c86a_row6_col4,#T_2c86a_row6_col5,#T_2c86a_row6_col6,#T_2c86a_row7_col0,#T_2c86a_row7_col1,#T_2c86a_row7_col2,#T_2c86a_row7_col3,#T_2c86a_row7_col4,#T_2c86a_row7_col5,#T_2c86a_row7_col6,#T_2c86a_row8_col0,#T_2c86a_row8_col1,#T_2c86a_row8_col2,#T_2c86a_row8_col3,#T_2c86a_row8_col4,#T_2c86a_row8_col5,#T_2c86a_row8_col6,#T_2c86a_row9_col0,#T_2c86a_row9_col1,#T_2c86a_row9_col2,#T_2c86a_row9_col3,#T_2c86a_row9_col4,#T_2c86a_row9_col5,#T_2c86a_row9_col6,#T_2c86a_row10_col0,#T_2c86a_row10_col1,#T_2c86a_row10_col2,#T_2c86a_row10_col3,#T_2c86a_row10_col4,#T_2c86a_row10_col5,#T_2c86a_row10_col6,#T_2c86a_row11_col0,#T_2c86a_row11_col1,#T_2c86a_row11_col2,#T_2c86a_row11_col3,#T_2c86a_row11_col4,#T_2c86a_row11_col5,#T_2c86a_row11_col6,#T_2c86a_row12_col0,#T_2c86a_row12_col1,#T_2c86a_row12_col2,#T_2c86a_row12_col3,#T_2c86a_row12_col4,#T_2c86a_row12_col5,#T_2c86a_row12_col6,#T_2c86a_row13_col0,#T_2c86a_row13_col1,#T_2c86a_row13_col2,#T_2c86a_row13_col3,#T_2c86a_row13_col4,#T_2c86a_row13_col5,#T_2c86a_row13_col6,#T_2c86a_row14_col0,#T_2c86a_row14_col1,#T_2c86a_row14_col2,#T_2c86a_row14_col3,#T_2c86a_row14_col4,#T_2c86a_row14_col5,#T_2c86a_row14_col6,#T_2c86a_row15_col0,#T_2c86a_row15_col1,#T_2c86a_row15_col2,#T_2c86a_row15_col3,#T_2c86a_row15_col4,#T_2c86a_row15_col5,#T_2c86a_row15_col6,#T_2c86a_row16_col0,#T_2c86a_row16_col1,#T_2c86a_row16_col2,#T_2c86a_row16_col3,#T_2c86a_row16_col4,#T_2c86a_row16_col5,#T_2c86a_row16_col6,#T_2c86a_row17_col0,#T_2c86a_row17_col1,#T_2c86a_row17_col2,#T_2c86a_row17_col3,#T_2c86a_row17_col4,#T_2c86a_row17_col5,#T_2c86a_row17_col6{\n",
       "            text-align:  left;\n",
       "            text-align:  left;\n",
       "        }#T_2c86a_row0_col1,#T_2c86a_row0_col2,#T_2c86a_row0_col3,#T_2c86a_row0_col4,#T_2c86a_row2_col6,#T_2c86a_row3_col5{\n",
       "            text-align:  left;\n",
       "            text-align:  left;\n",
       "            background-color:  yellow;\n",
       "        }#T_2c86a_row0_col7,#T_2c86a_row1_col7,#T_2c86a_row2_col7,#T_2c86a_row3_col7,#T_2c86a_row4_col7,#T_2c86a_row5_col7,#T_2c86a_row6_col7,#T_2c86a_row8_col7,#T_2c86a_row9_col7,#T_2c86a_row10_col7,#T_2c86a_row11_col7,#T_2c86a_row12_col7,#T_2c86a_row13_col7,#T_2c86a_row14_col7,#T_2c86a_row15_col7,#T_2c86a_row16_col7,#T_2c86a_row17_col7{\n",
       "            text-align:  left;\n",
       "            text-align:  left;\n",
       "            background-color:  lightgrey;\n",
       "        }#T_2c86a_row7_col7{\n",
       "            text-align:  left;\n",
       "            text-align:  left;\n",
       "            background-color:  yellow;\n",
       "            background-color:  lightgrey;\n",
       "        }</style><table id=\"T_2c86a_\" ><thead>    <tr>        <th class=\"blank level0\" ></th>        <th class=\"col_heading level0 col0\" >Model</th>        <th class=\"col_heading level0 col1\" >MAE</th>        <th class=\"col_heading level0 col2\" >MSE</th>        <th class=\"col_heading level0 col3\" >RMSE</th>        <th class=\"col_heading level0 col4\" >R2</th>        <th class=\"col_heading level0 col5\" >RMSLE</th>        <th class=\"col_heading level0 col6\" >MAPE</th>        <th class=\"col_heading level0 col7\" >TT (Sec)</th>    </tr></thead><tbody>\n",
       "                <tr>\n",
       "                        <th id=\"T_2c86a_level0_row0\" class=\"row_heading level0 row0\" >catboost</th>\n",
       "                        <td id=\"T_2c86a_row0_col0\" class=\"data row0 col0\" >CatBoost Regressor</td>\n",
       "                        <td id=\"T_2c86a_row0_col1\" class=\"data row0 col1\" >101.8246</td>\n",
       "                        <td id=\"T_2c86a_row0_col2\" class=\"data row0 col2\" >19096.5841</td>\n",
       "                        <td id=\"T_2c86a_row0_col3\" class=\"data row0 col3\" >138.1825</td>\n",
       "                        <td id=\"T_2c86a_row0_col4\" class=\"data row0 col4\" >0.8754</td>\n",
       "                        <td id=\"T_2c86a_row0_col5\" class=\"data row0 col5\" >0.1514</td>\n",
       "                        <td id=\"T_2c86a_row0_col6\" class=\"data row0 col6\" >0.1110</td>\n",
       "                        <td id=\"T_2c86a_row0_col7\" class=\"data row0 col7\" >10.1200</td>\n",
       "            </tr>\n",
       "            <tr>\n",
       "                        <th id=\"T_2c86a_level0_row1\" class=\"row_heading level0 row1\" >lightgbm</th>\n",
       "                        <td id=\"T_2c86a_row1_col0\" class=\"data row1 col0\" >Light Gradient Boosting Machine</td>\n",
       "                        <td id=\"T_2c86a_row1_col1\" class=\"data row1 col1\" >103.7847</td>\n",
       "                        <td id=\"T_2c86a_row1_col2\" class=\"data row1 col2\" >19879.0327</td>\n",
       "                        <td id=\"T_2c86a_row1_col3\" class=\"data row1 col3\" >140.9838</td>\n",
       "                        <td id=\"T_2c86a_row1_col4\" class=\"data row1 col4\" >0.8703</td>\n",
       "                        <td id=\"T_2c86a_row1_col5\" class=\"data row1 col5\" >0.1540</td>\n",
       "                        <td id=\"T_2c86a_row1_col6\" class=\"data row1 col6\" >0.1161</td>\n",
       "                        <td id=\"T_2c86a_row1_col7\" class=\"data row1 col7\" >0.9440</td>\n",
       "            </tr>\n",
       "            <tr>\n",
       "                        <th id=\"T_2c86a_level0_row2\" class=\"row_heading level0 row2\" >xgboost</th>\n",
       "                        <td id=\"T_2c86a_row2_col0\" class=\"data row2 col0\" >Extreme Gradient Boosting</td>\n",
       "                        <td id=\"T_2c86a_row2_col1\" class=\"data row2 col1\" >104.7487</td>\n",
       "                        <td id=\"T_2c86a_row2_col2\" class=\"data row2 col2\" >20254.5051</td>\n",
       "                        <td id=\"T_2c86a_row2_col3\" class=\"data row2 col3\" >142.3113</td>\n",
       "                        <td id=\"T_2c86a_row2_col4\" class=\"data row2 col4\" >0.8678</td>\n",
       "                        <td id=\"T_2c86a_row2_col5\" class=\"data row2 col5\" >0.1516</td>\n",
       "                        <td id=\"T_2c86a_row2_col6\" class=\"data row2 col6\" >0.1083</td>\n",
       "                        <td id=\"T_2c86a_row2_col7\" class=\"data row2 col7\" >12.9960</td>\n",
       "            </tr>\n",
       "            <tr>\n",
       "                        <th id=\"T_2c86a_level0_row3\" class=\"row_heading level0 row3\" >et</th>\n",
       "                        <td id=\"T_2c86a_row3_col0\" class=\"data row3 col0\" >Extra Trees Regressor</td>\n",
       "                        <td id=\"T_2c86a_row3_col1\" class=\"data row3 col1\" >105.6603</td>\n",
       "                        <td id=\"T_2c86a_row3_col2\" class=\"data row3 col2\" >21101.0086</td>\n",
       "                        <td id=\"T_2c86a_row3_col3\" class=\"data row3 col3\" >145.2511</td>\n",
       "                        <td id=\"T_2c86a_row3_col4\" class=\"data row3 col4\" >0.8623</td>\n",
       "                        <td id=\"T_2c86a_row3_col5\" class=\"data row3 col5\" >0.1512</td>\n",
       "                        <td id=\"T_2c86a_row3_col6\" class=\"data row3 col6\" >0.1084</td>\n",
       "                        <td id=\"T_2c86a_row3_col7\" class=\"data row3 col7\" >45.8700</td>\n",
       "            </tr>\n",
       "            <tr>\n",
       "                        <th id=\"T_2c86a_level0_row4\" class=\"row_heading level0 row4\" >rf</th>\n",
       "                        <td id=\"T_2c86a_row4_col0\" class=\"data row4 col0\" >Random Forest Regressor</td>\n",
       "                        <td id=\"T_2c86a_row4_col1\" class=\"data row4 col1\" >106.3578</td>\n",
       "                        <td id=\"T_2c86a_row4_col2\" class=\"data row4 col2\" >21488.4459</td>\n",
       "                        <td id=\"T_2c86a_row4_col3\" class=\"data row4 col3\" >146.5796</td>\n",
       "                        <td id=\"T_2c86a_row4_col4\" class=\"data row4 col4\" >0.8598</td>\n",
       "                        <td id=\"T_2c86a_row4_col5\" class=\"data row4 col5\" >0.1515</td>\n",
       "                        <td id=\"T_2c86a_row4_col6\" class=\"data row4 col6\" >0.1086</td>\n",
       "                        <td id=\"T_2c86a_row4_col7\" class=\"data row4 col7\" >42.8160</td>\n",
       "            </tr>\n",
       "            <tr>\n",
       "                        <th id=\"T_2c86a_level0_row5\" class=\"row_heading level0 row5\" >gbr</th>\n",
       "                        <td id=\"T_2c86a_row5_col0\" class=\"data row5 col0\" >Gradient Boosting Regressor</td>\n",
       "                        <td id=\"T_2c86a_row5_col1\" class=\"data row5 col1\" >117.2635</td>\n",
       "                        <td id=\"T_2c86a_row5_col2\" class=\"data row5 col2\" >23954.5918</td>\n",
       "                        <td id=\"T_2c86a_row5_col3\" class=\"data row5 col3\" >154.7686</td>\n",
       "                        <td id=\"T_2c86a_row5_col4\" class=\"data row5 col4\" >0.8437</td>\n",
       "                        <td id=\"T_2c86a_row5_col5\" class=\"data row5 col5\" >0.1723</td>\n",
       "                        <td id=\"T_2c86a_row5_col6\" class=\"data row5 col6\" >0.1340</td>\n",
       "                        <td id=\"T_2c86a_row5_col7\" class=\"data row5 col7\" >12.3220</td>\n",
       "            </tr>\n",
       "            <tr>\n",
       "                        <th id=\"T_2c86a_level0_row6\" class=\"row_heading level0 row6\" >br</th>\n",
       "                        <td id=\"T_2c86a_row6_col0\" class=\"data row6 col0\" >Bayesian Ridge</td>\n",
       "                        <td id=\"T_2c86a_row6_col1\" class=\"data row6 col1\" >145.4391</td>\n",
       "                        <td id=\"T_2c86a_row6_col2\" class=\"data row6 col2\" >35278.5626</td>\n",
       "                        <td id=\"T_2c86a_row6_col3\" class=\"data row6 col3\" >187.8233</td>\n",
       "                        <td id=\"T_2c86a_row6_col4\" class=\"data row6 col4\" >0.7698</td>\n",
       "                        <td id=\"T_2c86a_row6_col5\" class=\"data row6 col5\" >0.2448</td>\n",
       "                        <td id=\"T_2c86a_row6_col6\" class=\"data row6 col6\" >0.1898</td>\n",
       "                        <td id=\"T_2c86a_row6_col7\" class=\"data row6 col7\" >1.6360</td>\n",
       "            </tr>\n",
       "            <tr>\n",
       "                        <th id=\"T_2c86a_level0_row7\" class=\"row_heading level0 row7\" >ridge</th>\n",
       "                        <td id=\"T_2c86a_row7_col0\" class=\"data row7 col0\" >Ridge Regression</td>\n",
       "                        <td id=\"T_2c86a_row7_col1\" class=\"data row7 col1\" >145.4511</td>\n",
       "                        <td id=\"T_2c86a_row7_col2\" class=\"data row7 col2\" >35281.8602</td>\n",
       "                        <td id=\"T_2c86a_row7_col3\" class=\"data row7 col3\" >187.8321</td>\n",
       "                        <td id=\"T_2c86a_row7_col4\" class=\"data row7 col4\" >0.7698</td>\n",
       "                        <td id=\"T_2c86a_row7_col5\" class=\"data row7 col5\" >0.2447</td>\n",
       "                        <td id=\"T_2c86a_row7_col6\" class=\"data row7 col6\" >0.1898</td>\n",
       "                        <td id=\"T_2c86a_row7_col7\" class=\"data row7 col7\" >0.0900</td>\n",
       "            </tr>\n",
       "            <tr>\n",
       "                        <th id=\"T_2c86a_level0_row8\" class=\"row_heading level0 row8\" >lr</th>\n",
       "                        <td id=\"T_2c86a_row8_col0\" class=\"data row8 col0\" >Linear Regression</td>\n",
       "                        <td id=\"T_2c86a_row8_col1\" class=\"data row8 col1\" >145.4912</td>\n",
       "                        <td id=\"T_2c86a_row8_col2\" class=\"data row8 col2\" >35341.4555</td>\n",
       "                        <td id=\"T_2c86a_row8_col3\" class=\"data row8 col3\" >187.9905</td>\n",
       "                        <td id=\"T_2c86a_row8_col4\" class=\"data row8 col4\" >0.7694</td>\n",
       "                        <td id=\"T_2c86a_row8_col5\" class=\"data row8 col5\" >0.2451</td>\n",
       "                        <td id=\"T_2c86a_row8_col6\" class=\"data row8 col6\" >0.1901</td>\n",
       "                        <td id=\"T_2c86a_row8_col7\" class=\"data row8 col7\" >1.1220</td>\n",
       "            </tr>\n",
       "            <tr>\n",
       "                        <th id=\"T_2c86a_level0_row9\" class=\"row_heading level0 row9\" >lasso</th>\n",
       "                        <td id=\"T_2c86a_row9_col0\" class=\"data row9 col0\" >Lasso Regression</td>\n",
       "                        <td id=\"T_2c86a_row9_col1\" class=\"data row9 col1\" >148.8926</td>\n",
       "                        <td id=\"T_2c86a_row9_col2\" class=\"data row9 col2\" >36534.4289</td>\n",
       "                        <td id=\"T_2c86a_row9_col3\" class=\"data row9 col3\" >191.1373</td>\n",
       "                        <td id=\"T_2c86a_row9_col4\" class=\"data row9 col4\" >0.7616</td>\n",
       "                        <td id=\"T_2c86a_row9_col5\" class=\"data row9 col5\" >0.2458</td>\n",
       "                        <td id=\"T_2c86a_row9_col6\" class=\"data row9 col6\" >0.1895</td>\n",
       "                        <td id=\"T_2c86a_row9_col7\" class=\"data row9 col7\" >1.5660</td>\n",
       "            </tr>\n",
       "            <tr>\n",
       "                        <th id=\"T_2c86a_level0_row10\" class=\"row_heading level0 row10\" >omp</th>\n",
       "                        <td id=\"T_2c86a_row10_col0\" class=\"data row10 col0\" >Orthogonal Matching Pursuit</td>\n",
       "                        <td id=\"T_2c86a_row10_col1\" class=\"data row10 col1\" >162.5386</td>\n",
       "                        <td id=\"T_2c86a_row10_col2\" class=\"data row10 col2\" >42981.6789</td>\n",
       "                        <td id=\"T_2c86a_row10_col3\" class=\"data row10 col3\" >207.3159</td>\n",
       "                        <td id=\"T_2c86a_row10_col4\" class=\"data row10 col4\" >0.7196</td>\n",
       "                        <td id=\"T_2c86a_row10_col5\" class=\"data row10 col5\" >0.2561</td>\n",
       "                        <td id=\"T_2c86a_row10_col6\" class=\"data row10 col6\" >0.2009</td>\n",
       "                        <td id=\"T_2c86a_row10_col7\" class=\"data row10 col7\" >0.5840</td>\n",
       "            </tr>\n",
       "            <tr>\n",
       "                        <th id=\"T_2c86a_level0_row11\" class=\"row_heading level0 row11\" >dt</th>\n",
       "                        <td id=\"T_2c86a_row11_col0\" class=\"data row11 col0\" >Decision Tree Regressor</td>\n",
       "                        <td id=\"T_2c86a_row11_col1\" class=\"data row11 col1\" >148.4226</td>\n",
       "                        <td id=\"T_2c86a_row11_col2\" class=\"data row11 col2\" >44056.1316</td>\n",
       "                        <td id=\"T_2c86a_row11_col3\" class=\"data row11 col3\" >209.8890</td>\n",
       "                        <td id=\"T_2c86a_row11_col4\" class=\"data row11 col4\" >0.7125</td>\n",
       "                        <td id=\"T_2c86a_row11_col5\" class=\"data row11 col5\" >0.2147</td>\n",
       "                        <td id=\"T_2c86a_row11_col6\" class=\"data row11 col6\" >0.1493</td>\n",
       "                        <td id=\"T_2c86a_row11_col7\" class=\"data row11 col7\" >0.8280</td>\n",
       "            </tr>\n",
       "            <tr>\n",
       "                        <th id=\"T_2c86a_level0_row12\" class=\"row_heading level0 row12\" >knn</th>\n",
       "                        <td id=\"T_2c86a_row12_col0\" class=\"data row12 col0\" >K Neighbors Regressor</td>\n",
       "                        <td id=\"T_2c86a_row12_col1\" class=\"data row12 col1\" >172.9025</td>\n",
       "                        <td id=\"T_2c86a_row12_col2\" class=\"data row12 col2\" >49451.9359</td>\n",
       "                        <td id=\"T_2c86a_row12_col3\" class=\"data row12 col3\" >222.3724</td>\n",
       "                        <td id=\"T_2c86a_row12_col4\" class=\"data row12 col4\" >0.6773</td>\n",
       "                        <td id=\"T_2c86a_row12_col5\" class=\"data row12 col5\" >0.2101</td>\n",
       "                        <td id=\"T_2c86a_row12_col6\" class=\"data row12 col6\" >0.1647</td>\n",
       "                        <td id=\"T_2c86a_row12_col7\" class=\"data row12 col7\" >3.4100</td>\n",
       "            </tr>\n",
       "            <tr>\n",
       "                        <th id=\"T_2c86a_level0_row13\" class=\"row_heading level0 row13\" >en</th>\n",
       "                        <td id=\"T_2c86a_row13_col0\" class=\"data row13 col0\" >Elastic Net</td>\n",
       "                        <td id=\"T_2c86a_row13_col1\" class=\"data row13 col1\" >179.1319</td>\n",
       "                        <td id=\"T_2c86a_row13_col2\" class=\"data row13 col2\" >51170.6523</td>\n",
       "                        <td id=\"T_2c86a_row13_col3\" class=\"data row13 col3\" >226.2061</td>\n",
       "                        <td id=\"T_2c86a_row13_col4\" class=\"data row13 col4\" >0.6661</td>\n",
       "                        <td id=\"T_2c86a_row13_col5\" class=\"data row13 col5\" >0.2700</td>\n",
       "                        <td id=\"T_2c86a_row13_col6\" class=\"data row13 col6\" >0.2163</td>\n",
       "                        <td id=\"T_2c86a_row13_col7\" class=\"data row13 col7\" >0.5340</td>\n",
       "            </tr>\n",
       "            <tr>\n",
       "                        <th id=\"T_2c86a_level0_row14\" class=\"row_heading level0 row14\" >ada</th>\n",
       "                        <td id=\"T_2c86a_row14_col0\" class=\"data row14 col0\" >AdaBoost Regressor</td>\n",
       "                        <td id=\"T_2c86a_row14_col1\" class=\"data row14 col1\" >191.5007</td>\n",
       "                        <td id=\"T_2c86a_row14_col2\" class=\"data row14 col2\" >53665.3946</td>\n",
       "                        <td id=\"T_2c86a_row14_col3\" class=\"data row14 col3\" >231.6507</td>\n",
       "                        <td id=\"T_2c86a_row14_col4\" class=\"data row14 col4\" >0.6498</td>\n",
       "                        <td id=\"T_2c86a_row14_col5\" class=\"data row14 col5\" >0.2788</td>\n",
       "                        <td id=\"T_2c86a_row14_col6\" class=\"data row14 col6\" >0.2458</td>\n",
       "                        <td id=\"T_2c86a_row14_col7\" class=\"data row14 col7\" >11.8220</td>\n",
       "            </tr>\n",
       "            <tr>\n",
       "                        <th id=\"T_2c86a_level0_row15\" class=\"row_heading level0 row15\" >huber</th>\n",
       "                        <td id=\"T_2c86a_row15_col0\" class=\"data row15 col0\" >Huber Regressor</td>\n",
       "                        <td id=\"T_2c86a_row15_col1\" class=\"data row15 col1\" >187.6225</td>\n",
       "                        <td id=\"T_2c86a_row15_col2\" class=\"data row15 col2\" >58056.4799</td>\n",
       "                        <td id=\"T_2c86a_row15_col3\" class=\"data row15 col3\" >240.9466</td>\n",
       "                        <td id=\"T_2c86a_row15_col4\" class=\"data row15 col4\" >0.6212</td>\n",
       "                        <td id=\"T_2c86a_row15_col5\" class=\"data row15 col5\" >0.2725</td>\n",
       "                        <td id=\"T_2c86a_row15_col6\" class=\"data row15 col6\" >0.2156</td>\n",
       "                        <td id=\"T_2c86a_row15_col7\" class=\"data row15 col7\" >6.6500</td>\n",
       "            </tr>\n",
       "            <tr>\n",
       "                        <th id=\"T_2c86a_level0_row16\" class=\"row_heading level0 row16\" >par</th>\n",
       "                        <td id=\"T_2c86a_row16_col0\" class=\"data row16 col0\" >Passive Aggressive Regressor</td>\n",
       "                        <td id=\"T_2c86a_row16_col1\" class=\"data row16 col1\" >258.9249</td>\n",
       "                        <td id=\"T_2c86a_row16_col2\" class=\"data row16 col2\" >111702.4444</td>\n",
       "                        <td id=\"T_2c86a_row16_col3\" class=\"data row16 col3\" >327.7018</td>\n",
       "                        <td id=\"T_2c86a_row16_col4\" class=\"data row16 col4\" >0.2700</td>\n",
       "                        <td id=\"T_2c86a_row16_col5\" class=\"data row16 col5\" >0.3114</td>\n",
       "                        <td id=\"T_2c86a_row16_col6\" class=\"data row16 col6\" >0.2758</td>\n",
       "                        <td id=\"T_2c86a_row16_col7\" class=\"data row16 col7\" >0.4640</td>\n",
       "            </tr>\n",
       "            <tr>\n",
       "                        <th id=\"T_2c86a_level0_row17\" class=\"row_heading level0 row17\" >llar</th>\n",
       "                        <td id=\"T_2c86a_row17_col0\" class=\"data row17 col0\" >Lasso Least Angle Regression</td>\n",
       "                        <td id=\"T_2c86a_row17_col1\" class=\"data row17 col1\" >313.4200</td>\n",
       "                        <td id=\"T_2c86a_row17_col2\" class=\"data row17 col2\" >153283.0832</td>\n",
       "                        <td id=\"T_2c86a_row17_col3\" class=\"data row17 col3\" >391.5093</td>\n",
       "                        <td id=\"T_2c86a_row17_col4\" class=\"data row17 col4\" >-0.0001</td>\n",
       "                        <td id=\"T_2c86a_row17_col5\" class=\"data row17 col5\" >0.4614</td>\n",
       "                        <td id=\"T_2c86a_row17_col6\" class=\"data row17 col6\" >0.5007</td>\n",
       "                        <td id=\"T_2c86a_row17_col7\" class=\"data row17 col7\" >0.8140</td>\n",
       "            </tr>\n",
       "    </tbody></table>"
      ],
      "text/plain": [
       "<pandas.io.formats.style.Styler at 0x15420e87280>"
      ]
     },
     "metadata": {},
     "output_type": "display_data"
    }
   ],
   "source": [
    "best5 = compare_models(fold=5,   \n",
    "                       sort='rmse',\n",
    "                       n_select=5,    \n",
    "                       exclude=['svm']) "
   ]
  },
  {
   "cell_type": "code",
   "execution_count": 111,
   "id": "ec7e84f1",
   "metadata": {
    "ExecuteTime": {
     "end_time": "2021-09-07T18:49:12.573717Z",
     "start_time": "2021-09-07T18:49:12.564771Z"
    }
   },
   "outputs": [
    {
     "data": {
      "text/plain": [
       "[<catboost.core.CatBoostRegressor at 0x15420f0c310>,\n",
       " LGBMRegressor(boosting_type='gbdt', class_weight=None, colsample_bytree=1.0,\n",
       "               importance_type='split', learning_rate=0.1, max_depth=-1,\n",
       "               min_child_samples=20, min_child_weight=0.001, min_split_gain=0.0,\n",
       "               n_estimators=100, n_jobs=-1, num_leaves=31, objective=None,\n",
       "               random_state=1120, reg_alpha=0.0, reg_lambda=0.0, silent=True,\n",
       "               subsample=1.0, subsample_for_bin=200000, subsample_freq=0),\n",
       " XGBRegressor(base_score=0.5, booster='gbtree', colsample_bylevel=1,\n",
       "              colsample_bynode=1, colsample_bytree=1, gamma=0, gpu_id=-1,\n",
       "              importance_type='gain', interaction_constraints='',\n",
       "              learning_rate=0.300000012, max_delta_step=0, max_depth=6,\n",
       "              min_child_weight=1, missing=nan, monotone_constraints='()',\n",
       "              n_estimators=100, n_jobs=-1, num_parallel_tree=1,\n",
       "              objective='reg:squarederror', random_state=1120, reg_alpha=0,\n",
       "              reg_lambda=1, scale_pos_weight=1, subsample=1, tree_method='auto',\n",
       "              validate_parameters=1, verbosity=0),\n",
       " ExtraTreesRegressor(bootstrap=False, ccp_alpha=0.0, criterion='mse',\n",
       "                     max_depth=None, max_features='auto', max_leaf_nodes=None,\n",
       "                     max_samples=None, min_impurity_decrease=0.0,\n",
       "                     min_impurity_split=None, min_samples_leaf=1,\n",
       "                     min_samples_split=2, min_weight_fraction_leaf=0.0,\n",
       "                     n_estimators=100, n_jobs=-1, oob_score=False,\n",
       "                     random_state=1120, verbose=0, warm_start=False),\n",
       " RandomForestRegressor(bootstrap=True, ccp_alpha=0.0, criterion='mse',\n",
       "                       max_depth=None, max_features='auto', max_leaf_nodes=None,\n",
       "                       max_samples=None, min_impurity_decrease=0.0,\n",
       "                       min_impurity_split=None, min_samples_leaf=1,\n",
       "                       min_samples_split=2, min_weight_fraction_leaf=0.0,\n",
       "                       n_estimators=100, n_jobs=-1, oob_score=False,\n",
       "                       random_state=1120, verbose=0, warm_start=False)]"
      ]
     },
     "execution_count": 111,
     "metadata": {},
     "output_type": "execute_result"
    }
   ],
   "source": [
    "best5"
   ]
  },
  {
   "cell_type": "markdown",
   "id": "d2b021e4",
   "metadata": {},
   "source": [
    "### 4.5. lgbm"
   ]
  },
  {
   "cell_type": "code",
   "execution_count": 255,
   "id": "618cd0f7",
   "metadata": {
    "ExecuteTime": {
     "end_time": "2021-09-08T08:40:22.548911Z",
     "start_time": "2021-09-08T08:40:12.811950Z"
    }
   },
   "outputs": [
    {
     "data": {
      "text/html": [
       "<style  type=\"text/css\" >\n",
       "#T_335e8_row5_col0,#T_335e8_row5_col1,#T_335e8_row5_col2,#T_335e8_row5_col3,#T_335e8_row5_col4,#T_335e8_row5_col5{\n",
       "            background:  yellow;\n",
       "        }</style><table id=\"T_335e8_\" ><thead>    <tr>        <th class=\"blank level0\" ></th>        <th class=\"col_heading level0 col0\" >MAE</th>        <th class=\"col_heading level0 col1\" >MSE</th>        <th class=\"col_heading level0 col2\" >RMSE</th>        <th class=\"col_heading level0 col3\" >R2</th>        <th class=\"col_heading level0 col4\" >RMSLE</th>        <th class=\"col_heading level0 col5\" >MAPE</th>    </tr></thead><tbody>\n",
       "                <tr>\n",
       "                        <th id=\"T_335e8_level0_row0\" class=\"row_heading level0 row0\" >0</th>\n",
       "                        <td id=\"T_335e8_row0_col0\" class=\"data row0 col0\" >101.4135</td>\n",
       "                        <td id=\"T_335e8_row0_col1\" class=\"data row0 col1\" >19243.1307</td>\n",
       "                        <td id=\"T_335e8_row0_col2\" class=\"data row0 col2\" >138.7196</td>\n",
       "                        <td id=\"T_335e8_row0_col3\" class=\"data row0 col3\" >0.8724</td>\n",
       "                        <td id=\"T_335e8_row0_col4\" class=\"data row0 col4\" >0.1508</td>\n",
       "                        <td id=\"T_335e8_row0_col5\" class=\"data row0 col5\" >0.1080</td>\n",
       "            </tr>\n",
       "            <tr>\n",
       "                        <th id=\"T_335e8_level0_row1\" class=\"row_heading level0 row1\" >1</th>\n",
       "                        <td id=\"T_335e8_row1_col0\" class=\"data row1 col0\" >101.0357</td>\n",
       "                        <td id=\"T_335e8_row1_col1\" class=\"data row1 col1\" >19159.6317</td>\n",
       "                        <td id=\"T_335e8_row1_col2\" class=\"data row1 col2\" >138.4183</td>\n",
       "                        <td id=\"T_335e8_row1_col3\" class=\"data row1 col3\" >0.8745</td>\n",
       "                        <td id=\"T_335e8_row1_col4\" class=\"data row1 col4\" >0.1606</td>\n",
       "                        <td id=\"T_335e8_row1_col5\" class=\"data row1 col5\" >0.1314</td>\n",
       "            </tr>\n",
       "            <tr>\n",
       "                        <th id=\"T_335e8_level0_row2\" class=\"row_heading level0 row2\" >2</th>\n",
       "                        <td id=\"T_335e8_row2_col0\" class=\"data row2 col0\" >102.7903</td>\n",
       "                        <td id=\"T_335e8_row2_col1\" class=\"data row2 col1\" >19590.6187</td>\n",
       "                        <td id=\"T_335e8_row2_col2\" class=\"data row2 col2\" >139.9665</td>\n",
       "                        <td id=\"T_335e8_row2_col3\" class=\"data row2 col3\" >0.8733</td>\n",
       "                        <td id=\"T_335e8_row2_col4\" class=\"data row2 col4\" >0.1516</td>\n",
       "                        <td id=\"T_335e8_row2_col5\" class=\"data row2 col5\" >0.1124</td>\n",
       "            </tr>\n",
       "            <tr>\n",
       "                        <th id=\"T_335e8_level0_row3\" class=\"row_heading level0 row3\" >3</th>\n",
       "                        <td id=\"T_335e8_row3_col0\" class=\"data row3 col0\" >101.9128</td>\n",
       "                        <td id=\"T_335e8_row3_col1\" class=\"data row3 col1\" >19690.2282</td>\n",
       "                        <td id=\"T_335e8_row3_col2\" class=\"data row3 col2\" >140.3219</td>\n",
       "                        <td id=\"T_335e8_row3_col3\" class=\"data row3 col3\" >0.8723</td>\n",
       "                        <td id=\"T_335e8_row3_col4\" class=\"data row3 col4\" >0.1605</td>\n",
       "                        <td id=\"T_335e8_row3_col5\" class=\"data row3 col5\" >0.1363</td>\n",
       "            </tr>\n",
       "            <tr>\n",
       "                        <th id=\"T_335e8_level0_row4\" class=\"row_heading level0 row4\" >4</th>\n",
       "                        <td id=\"T_335e8_row4_col0\" class=\"data row4 col0\" >101.6690</td>\n",
       "                        <td id=\"T_335e8_row4_col1\" class=\"data row4 col1\" >19099.7079</td>\n",
       "                        <td id=\"T_335e8_row4_col2\" class=\"data row4 col2\" >138.2017</td>\n",
       "                        <td id=\"T_335e8_row4_col3\" class=\"data row4 col3\" >0.8752</td>\n",
       "                        <td id=\"T_335e8_row4_col4\" class=\"data row4 col4\" >0.1482</td>\n",
       "                        <td id=\"T_335e8_row4_col5\" class=\"data row4 col5\" >0.1088</td>\n",
       "            </tr>\n",
       "            <tr>\n",
       "                        <th id=\"T_335e8_level0_row5\" class=\"row_heading level0 row5\" >Mean</th>\n",
       "                        <td id=\"T_335e8_row5_col0\" class=\"data row5 col0\" >101.7643</td>\n",
       "                        <td id=\"T_335e8_row5_col1\" class=\"data row5 col1\" >19356.6634</td>\n",
       "                        <td id=\"T_335e8_row5_col2\" class=\"data row5 col2\" >139.1256</td>\n",
       "                        <td id=\"T_335e8_row5_col3\" class=\"data row5 col3\" >0.8736</td>\n",
       "                        <td id=\"T_335e8_row5_col4\" class=\"data row5 col4\" >0.1544</td>\n",
       "                        <td id=\"T_335e8_row5_col5\" class=\"data row5 col5\" >0.1193</td>\n",
       "            </tr>\n",
       "            <tr>\n",
       "                        <th id=\"T_335e8_level0_row6\" class=\"row_heading level0 row6\" >SD</th>\n",
       "                        <td id=\"T_335e8_row6_col0\" class=\"data row6 col0\" >0.5895</td>\n",
       "                        <td id=\"T_335e8_row6_col1\" class=\"data row6 col1\" >238.2175</td>\n",
       "                        <td id=\"T_335e8_row6_col2\" class=\"data row6 col2\" >0.8552</td>\n",
       "                        <td id=\"T_335e8_row6_col3\" class=\"data row6 col3\" >0.0011</td>\n",
       "                        <td id=\"T_335e8_row6_col4\" class=\"data row6 col4\" >0.0052</td>\n",
       "                        <td id=\"T_335e8_row6_col5\" class=\"data row6 col5\" >0.0120</td>\n",
       "            </tr>\n",
       "    </tbody></table>"
      ],
      "text/plain": [
       "<pandas.io.formats.style.Styler at 0x155455b8ac0>"
      ]
     },
     "metadata": {},
     "output_type": "display_data"
    }
   ],
   "source": [
    "lgbm = create_model('lightgbm', fold=5)"
   ]
  },
  {
   "cell_type": "code",
   "execution_count": 256,
   "id": "0ff224be",
   "metadata": {
    "ExecuteTime": {
     "end_time": "2021-09-08T08:42:13.842513Z",
     "start_time": "2021-09-08T08:41:04.836386Z"
    }
   },
   "outputs": [
    {
     "data": {
      "text/html": [
       "<style  type=\"text/css\" >\n",
       "#T_0bdbf_row5_col0,#T_0bdbf_row5_col1,#T_0bdbf_row5_col2,#T_0bdbf_row5_col3,#T_0bdbf_row5_col4,#T_0bdbf_row5_col5{\n",
       "            background:  yellow;\n",
       "        }</style><table id=\"T_0bdbf_\" ><thead>    <tr>        <th class=\"blank level0\" ></th>        <th class=\"col_heading level0 col0\" >MAE</th>        <th class=\"col_heading level0 col1\" >MSE</th>        <th class=\"col_heading level0 col2\" >RMSE</th>        <th class=\"col_heading level0 col3\" >R2</th>        <th class=\"col_heading level0 col4\" >RMSLE</th>        <th class=\"col_heading level0 col5\" >MAPE</th>    </tr></thead><tbody>\n",
       "                <tr>\n",
       "                        <th id=\"T_0bdbf_level0_row0\" class=\"row_heading level0 row0\" >0</th>\n",
       "                        <td id=\"T_0bdbf_row0_col0\" class=\"data row0 col0\" >103.1618</td>\n",
       "                        <td id=\"T_0bdbf_row0_col1\" class=\"data row0 col1\" >19507.4576</td>\n",
       "                        <td id=\"T_0bdbf_row0_col2\" class=\"data row0 col2\" >139.6691</td>\n",
       "                        <td id=\"T_0bdbf_row0_col3\" class=\"data row0 col3\" >0.8707</td>\n",
       "                        <td id=\"T_0bdbf_row0_col4\" class=\"data row0 col4\" >0.1541</td>\n",
       "                        <td id=\"T_0bdbf_row0_col5\" class=\"data row0 col5\" >0.1118</td>\n",
       "            </tr>\n",
       "            <tr>\n",
       "                        <th id=\"T_0bdbf_level0_row1\" class=\"row_heading level0 row1\" >1</th>\n",
       "                        <td id=\"T_0bdbf_row1_col0\" class=\"data row1 col0\" >102.6352</td>\n",
       "                        <td id=\"T_0bdbf_row1_col1\" class=\"data row1 col1\" >19395.7257</td>\n",
       "                        <td id=\"T_0bdbf_row1_col2\" class=\"data row1 col2\" >139.2685</td>\n",
       "                        <td id=\"T_0bdbf_row1_col3\" class=\"data row1 col3\" >0.8730</td>\n",
       "                        <td id=\"T_0bdbf_row1_col4\" class=\"data row1 col4\" >0.1640</td>\n",
       "                        <td id=\"T_0bdbf_row1_col5\" class=\"data row1 col5\" >0.1403</td>\n",
       "            </tr>\n",
       "            <tr>\n",
       "                        <th id=\"T_0bdbf_level0_row2\" class=\"row_heading level0 row2\" >2</th>\n",
       "                        <td id=\"T_0bdbf_row2_col0\" class=\"data row2 col0\" >104.5214</td>\n",
       "                        <td id=\"T_0bdbf_row2_col1\" class=\"data row2 col1\" >19969.3543</td>\n",
       "                        <td id=\"T_0bdbf_row2_col2\" class=\"data row2 col2\" >141.3130</td>\n",
       "                        <td id=\"T_0bdbf_row2_col3\" class=\"data row2 col3\" >0.8708</td>\n",
       "                        <td id=\"T_0bdbf_row2_col4\" class=\"data row2 col4\" >0.1572</td>\n",
       "                        <td id=\"T_0bdbf_row2_col5\" class=\"data row2 col5\" >0.1171</td>\n",
       "            </tr>\n",
       "            <tr>\n",
       "                        <th id=\"T_0bdbf_level0_row3\" class=\"row_heading level0 row3\" >3</th>\n",
       "                        <td id=\"T_0bdbf_row3_col0\" class=\"data row3 col0\" >103.1285</td>\n",
       "                        <td id=\"T_0bdbf_row3_col1\" class=\"data row3 col1\" >19654.6199</td>\n",
       "                        <td id=\"T_0bdbf_row3_col2\" class=\"data row3 col2\" >140.1949</td>\n",
       "                        <td id=\"T_0bdbf_row3_col3\" class=\"data row3 col3\" >0.8726</td>\n",
       "                        <td id=\"T_0bdbf_row3_col4\" class=\"data row3 col4\" >0.1649</td>\n",
       "                        <td id=\"T_0bdbf_row3_col5\" class=\"data row3 col5\" >0.1470</td>\n",
       "            </tr>\n",
       "            <tr>\n",
       "                        <th id=\"T_0bdbf_level0_row4\" class=\"row_heading level0 row4\" >4</th>\n",
       "                        <td id=\"T_0bdbf_row4_col0\" class=\"data row4 col0\" >103.3354</td>\n",
       "                        <td id=\"T_0bdbf_row4_col1\" class=\"data row4 col1\" >19203.8272</td>\n",
       "                        <td id=\"T_0bdbf_row4_col2\" class=\"data row4 col2\" >138.5779</td>\n",
       "                        <td id=\"T_0bdbf_row4_col3\" class=\"data row4 col3\" >0.8745</td>\n",
       "                        <td id=\"T_0bdbf_row4_col4\" class=\"data row4 col4\" >0.1515</td>\n",
       "                        <td id=\"T_0bdbf_row4_col5\" class=\"data row4 col5\" >0.1135</td>\n",
       "            </tr>\n",
       "            <tr>\n",
       "                        <th id=\"T_0bdbf_level0_row5\" class=\"row_heading level0 row5\" >Mean</th>\n",
       "                        <td id=\"T_0bdbf_row5_col0\" class=\"data row5 col0\" >103.3565</td>\n",
       "                        <td id=\"T_0bdbf_row5_col1\" class=\"data row5 col1\" >19546.1970</td>\n",
       "                        <td id=\"T_0bdbf_row5_col2\" class=\"data row5 col2\" >139.8047</td>\n",
       "                        <td id=\"T_0bdbf_row5_col3\" class=\"data row5 col3\" >0.8723</td>\n",
       "                        <td id=\"T_0bdbf_row5_col4\" class=\"data row5 col4\" >0.1583</td>\n",
       "                        <td id=\"T_0bdbf_row5_col5\" class=\"data row5 col5\" >0.1259</td>\n",
       "            </tr>\n",
       "            <tr>\n",
       "                        <th id=\"T_0bdbf_level0_row6\" class=\"row_heading level0 row6\" >SD</th>\n",
       "                        <td id=\"T_0bdbf_row6_col0\" class=\"data row6 col0\" >0.6273</td>\n",
       "                        <td id=\"T_0bdbf_row6_col1\" class=\"data row6 col1\" >257.7507</td>\n",
       "                        <td id=\"T_0bdbf_row6_col2\" class=\"data row6 col2\" >0.9207</td>\n",
       "                        <td id=\"T_0bdbf_row6_col3\" class=\"data row6 col3\" >0.0014</td>\n",
       "                        <td id=\"T_0bdbf_row6_col4\" class=\"data row6 col4\" >0.0053</td>\n",
       "                        <td id=\"T_0bdbf_row6_col5\" class=\"data row6 col5\" >0.0147</td>\n",
       "            </tr>\n",
       "    </tbody></table>"
      ],
      "text/plain": [
       "<pandas.io.formats.style.Styler at 0x154ae7570d0>"
      ]
     },
     "metadata": {},
     "output_type": "display_data"
    }
   ],
   "source": [
    "tuned_lgbm = tune_model(lgbm, fold=5, optimize='r2', search_library='optuna')"
   ]
  },
  {
   "cell_type": "code",
   "execution_count": 287,
   "id": "8cd1be05",
   "metadata": {
    "ExecuteTime": {
     "end_time": "2021-09-08T08:59:46.193632Z",
     "start_time": "2021-09-08T08:59:45.023249Z"
    }
   },
   "outputs": [
    {
     "data": {
      "image/png": "[encoded data removed]",
      "text/plain": [
       "<Figure size 800x500 with 1 Axes>"
      ]
     },
     "metadata": {},
     "output_type": "display_data"
    }
   ],
   "source": [
    "plot_model(estimator = tuned_lgbm, plot = 'feature')"
   ]
  },
  {
   "cell_type": "code",
   "execution_count": 259,
   "id": "0b62d3e0",
   "metadata": {
    "ExecuteTime": {
     "end_time": "2021-09-08T08:44:16.690878Z",
     "start_time": "2021-09-08T08:44:15.621966Z"
    }
   },
   "outputs": [],
   "source": [
    "pred = predict_model(tuned_lgbm, data=x_test)"
   ]
  },
  {
   "cell_type": "code",
   "execution_count": 260,
   "id": "4ac2c347",
   "metadata": {
    "ExecuteTime": {
     "end_time": "2021-09-08T08:44:18.561378Z",
     "start_time": "2021-09-08T08:44:18.544575Z"
    },
    "scrolled": true
   },
   "outputs": [
    {
     "name": "stdout",
     "output_type": "stream",
     "text": [
      "r2 score :  0.8532149615379524\n",
      "mae :  113.18825484557547\n"
     ]
    }
   ],
   "source": [
    "r2 = r2_score(y_test, pred['Label'])\n",
    "print('r2 score : ', r2)\n",
    "\n",
    "mae = mean_absolute_error(y_test, pred['Label'])\n",
    "print('mae : ', mae)"
   ]
  },
  {
   "cell_type": "code",
   "execution_count": 261,
   "id": "506ae0d4",
   "metadata": {
    "ExecuteTime": {
     "end_time": "2021-09-08T08:44:21.128550Z",
     "start_time": "2021-09-08T08:44:20.510635Z"
    }
   },
   "outputs": [
    {
     "data": {
      "image/png": "[encoded data removed]",
      "text/plain": [
       "<Figure size 720x360 with 2 Axes>"
      ]
     },
     "metadata": {},
     "output_type": "display_data"
    },
    {
     "data": {
      "image/png": "[encoded data removed]",
      "text/plain": [
       "<Figure size 720x360 with 1 Axes>"
      ]
     },
     "metadata": {},
     "output_type": "display_data"
    }
   ],
   "source": [
    "fig, ax = plt.subplots(1, 2, figsize=(10, 5))\n",
    "\n",
    "sns.distplot(y_test, bins=20, kde=False, ax=ax[0], color='g', hist_kws={'edgecolor':'k'})\n",
    "ax[0].set_title('y_ture 분포')\n",
    "\n",
    "\n",
    "sns.distplot(pred['Label'], bins=20, kde=False, ax=ax[1], color='r', hist_kws={'edgecolor':'k'})\n",
    "ax[1].set_title('y_pred 분포')\n",
    "ax[1].set_xlabel('time_survived')\n",
    "plt.show()\n",
    "\n",
    "fig, ax = plt.subplots(1, 1, figsize=(10, 5))\n",
    "\n",
    "sns.distplot(y_test, bins=20, kde=False, ax=ax, color='g', hist_kws={'edgecolor':'k'}, label='y_true')\n",
    "sns.distplot(pred['Label'], bins=20, kde=False, ax=ax, color='grey', hist_kws={'edgecolor':'k'}, label='y_pred')\n",
    "plt.legend()\n",
    "plt.show()"
   ]
  },
  {
   "cell_type": "markdown",
   "id": "58d4b580",
   "metadata": {},
   "source": [
    "### 4.6. linear_model"
   ]
  },
  {
   "cell_type": "code",
   "execution_count": 263,
   "id": "a20a6cc2",
   "metadata": {
    "ExecuteTime": {
     "end_time": "2021-09-08T08:44:31.546792Z",
     "start_time": "2021-09-08T08:44:29.747471Z"
    }
   },
   "outputs": [
    {
     "data": {
      "text/html": [
       "<style  type=\"text/css\" >\n",
       "#T_e894b_row5_col0,#T_e894b_row5_col1,#T_e894b_row5_col2,#T_e894b_row5_col3,#T_e894b_row5_col4,#T_e894b_row5_col5{\n",
       "            background:  yellow;\n",
       "        }</style><table id=\"T_e894b_\" ><thead>    <tr>        <th class=\"blank level0\" ></th>        <th class=\"col_heading level0 col0\" >MAE</th>        <th class=\"col_heading level0 col1\" >MSE</th>        <th class=\"col_heading level0 col2\" >RMSE</th>        <th class=\"col_heading level0 col3\" >R2</th>        <th class=\"col_heading level0 col4\" >RMSLE</th>        <th class=\"col_heading level0 col5\" >MAPE</th>    </tr></thead><tbody>\n",
       "                <tr>\n",
       "                        <th id=\"T_e894b_level0_row0\" class=\"row_heading level0 row0\" >0</th>\n",
       "                        <td id=\"T_e894b_row0_col0\" class=\"data row0 col0\" >154.1448</td>\n",
       "                        <td id=\"T_e894b_row0_col1\" class=\"data row0 col1\" >38646.3867</td>\n",
       "                        <td id=\"T_e894b_row0_col2\" class=\"data row0 col2\" >196.5868</td>\n",
       "                        <td id=\"T_e894b_row0_col3\" class=\"data row0 col3\" >0.7438</td>\n",
       "                        <td id=\"T_e894b_row0_col4\" class=\"data row0 col4\" >0.2571</td>\n",
       "                        <td id=\"T_e894b_row0_col5\" class=\"data row0 col5\" >0.2003</td>\n",
       "            </tr>\n",
       "            <tr>\n",
       "                        <th id=\"T_e894b_level0_row1\" class=\"row_heading level0 row1\" >1</th>\n",
       "                        <td id=\"T_e894b_row1_col0\" class=\"data row1 col0\" >153.5101</td>\n",
       "                        <td id=\"T_e894b_row1_col1\" class=\"data row1 col1\" >38309.2070</td>\n",
       "                        <td id=\"T_e894b_row1_col2\" class=\"data row1 col2\" >195.7274</td>\n",
       "                        <td id=\"T_e894b_row1_col3\" class=\"data row1 col3\" >0.7492</td>\n",
       "                        <td id=\"T_e894b_row1_col4\" class=\"data row1 col4\" >0.2635</td>\n",
       "                        <td id=\"T_e894b_row1_col5\" class=\"data row1 col5\" >0.2286</td>\n",
       "            </tr>\n",
       "            <tr>\n",
       "                        <th id=\"T_e894b_level0_row2\" class=\"row_heading level0 row2\" >2</th>\n",
       "                        <td id=\"T_e894b_row2_col0\" class=\"data row2 col0\" >154.0986</td>\n",
       "                        <td id=\"T_e894b_row2_col1\" class=\"data row2 col1\" >39137.4023</td>\n",
       "                        <td id=\"T_e894b_row2_col2\" class=\"data row2 col2\" >197.8318</td>\n",
       "                        <td id=\"T_e894b_row2_col3\" class=\"data row2 col3\" >0.7469</td>\n",
       "                        <td id=\"T_e894b_row2_col4\" class=\"data row2 col4\" >0.2614</td>\n",
       "                        <td id=\"T_e894b_row2_col5\" class=\"data row2 col5\" >0.2065</td>\n",
       "            </tr>\n",
       "            <tr>\n",
       "                        <th id=\"T_e894b_level0_row3\" class=\"row_heading level0 row3\" >3</th>\n",
       "                        <td id=\"T_e894b_row3_col0\" class=\"data row3 col0\" >154.4442</td>\n",
       "                        <td id=\"T_e894b_row3_col1\" class=\"data row3 col1\" >39426.8789</td>\n",
       "                        <td id=\"T_e894b_row3_col2\" class=\"data row3 col2\" >198.5620</td>\n",
       "                        <td id=\"T_e894b_row3_col3\" class=\"data row3 col3\" >0.7444</td>\n",
       "                        <td id=\"T_e894b_row3_col4\" class=\"data row3 col4\" >0.2695</td>\n",
       "                        <td id=\"T_e894b_row3_col5\" class=\"data row3 col5\" >0.2391</td>\n",
       "            </tr>\n",
       "            <tr>\n",
       "                        <th id=\"T_e894b_level0_row4\" class=\"row_heading level0 row4\" >4</th>\n",
       "                        <td id=\"T_e894b_row4_col0\" class=\"data row4 col0\" >153.1074</td>\n",
       "                        <td id=\"T_e894b_row4_col1\" class=\"data row4 col1\" >38049.7539</td>\n",
       "                        <td id=\"T_e894b_row4_col2\" class=\"data row4 col2\" >195.0635</td>\n",
       "                        <td id=\"T_e894b_row4_col3\" class=\"data row4 col3\" >0.7514</td>\n",
       "                        <td id=\"T_e894b_row4_col4\" class=\"data row4 col4\" >0.2562</td>\n",
       "                        <td id=\"T_e894b_row4_col5\" class=\"data row4 col5\" >0.2009</td>\n",
       "            </tr>\n",
       "            <tr>\n",
       "                        <th id=\"T_e894b_level0_row5\" class=\"row_heading level0 row5\" >Mean</th>\n",
       "                        <td id=\"T_e894b_row5_col0\" class=\"data row5 col0\" >153.8610</td>\n",
       "                        <td id=\"T_e894b_row5_col1\" class=\"data row5 col1\" >38713.9258</td>\n",
       "                        <td id=\"T_e894b_row5_col2\" class=\"data row5 col2\" >196.7543</td>\n",
       "                        <td id=\"T_e894b_row5_col3\" class=\"data row5 col3\" >0.7471</td>\n",
       "                        <td id=\"T_e894b_row5_col4\" class=\"data row5 col4\" >0.2616</td>\n",
       "                        <td id=\"T_e894b_row5_col5\" class=\"data row5 col5\" >0.2151</td>\n",
       "            </tr>\n",
       "            <tr>\n",
       "                        <th id=\"T_e894b_level0_row6\" class=\"row_heading level0 row6\" >SD</th>\n",
       "                        <td id=\"T_e894b_row6_col0\" class=\"data row6 col0\" >0.4834</td>\n",
       "                        <td id=\"T_e894b_row6_col1\" class=\"data row6 col1\" >509.3364</td>\n",
       "                        <td id=\"T_e894b_row6_col2\" class=\"data row6 col2\" >1.2939</td>\n",
       "                        <td id=\"T_e894b_row6_col3\" class=\"data row6 col3\" >0.0029</td>\n",
       "                        <td id=\"T_e894b_row6_col4\" class=\"data row6 col4\" >0.0048</td>\n",
       "                        <td id=\"T_e894b_row6_col5\" class=\"data row6 col5\" >0.0159</td>\n",
       "            </tr>\n",
       "    </tbody></table>"
      ],
      "text/plain": [
       "<pandas.io.formats.style.Styler at 0x154a27c1ac0>"
      ]
     },
     "metadata": {},
     "output_type": "display_data"
    }
   ],
   "source": [
    "lr = create_model('lr', fold=5)"
   ]
  },
  {
   "cell_type": "code",
   "execution_count": 284,
   "id": "d78cf912",
   "metadata": {
    "ExecuteTime": {
     "end_time": "2021-09-08T08:57:54.317865Z",
     "start_time": "2021-09-08T08:57:53.038460Z"
    },
    "scrolled": false
   },
   "outputs": [
    {
     "data": {
      "image/png": "[encoded data removed]",
      "text/plain": [
       "<Figure size 800x500 with 1 Axes>"
      ]
     },
     "metadata": {},
     "output_type": "display_data"
    }
   ],
   "source": [
    "plot_model(estimator = lr, plot = 'feature')"
   ]
  },
  {
   "cell_type": "code",
   "execution_count": 264,
   "id": "6fe26e79",
   "metadata": {
    "ExecuteTime": {
     "end_time": "2021-09-08T08:44:37.429575Z",
     "start_time": "2021-09-08T08:44:36.437669Z"
    }
   },
   "outputs": [],
   "source": [
    "pred_lr = predict_model(lr, data=x_test)"
   ]
  },
  {
   "cell_type": "code",
   "execution_count": 209,
   "id": "156eb072",
   "metadata": {
    "ExecuteTime": {
     "end_time": "2021-09-08T08:21:10.343806Z",
     "start_time": "2021-09-08T08:21:10.322235Z"
    }
   },
   "outputs": [
    {
     "name": "stdout",
     "output_type": "stream",
     "text": [
      "r2 score :  0.669761140866677\n",
      "mae :  174.48379065589066\n"
     ]
    }
   ],
   "source": [
    "r2 = r2_score(y_test, pred_lr['Label'])\n",
    "print('r2 score : ', r2)\n",
    "\n",
    "mae = mean_absolute_error(y_test, pred_lr['Label'])\n",
    "print('mae : ', mae)"
   ]
  },
  {
   "cell_type": "code",
   "execution_count": 267,
   "id": "384eab43",
   "metadata": {
    "ExecuteTime": {
     "end_time": "2021-09-08T08:47:31.254264Z",
     "start_time": "2021-09-08T08:47:30.618537Z"
    }
   },
   "outputs": [
    {
     "data": {
      "image/png": "[encoded data removed]",
      "text/plain": [
       "<Figure size 720x360 with 2 Axes>"
      ]
     },
     "metadata": {},
     "output_type": "display_data"
    },
    {
     "data": {
      "image/png": "[encoded data removed]",
      "text/plain": [
       "<Figure size 720x360 with 1 Axes>"
      ]
     },
     "metadata": {},
     "output_type": "display_data"
    }
   ],
   "source": [
    "fig, ax = plt.subplots(1, 2, figsize=(10, 5))\n",
    "sns.distplot(y_test, bins=20, kde=False, ax=ax[0], color='g', hist_kws={'edgecolor':'k'})\n",
    "ax[0].set_title('y_ture 분포')\n",
    "sns.distplot(pred_lr['Label'], bins=20, kde=False, ax=ax[1], color='r', hist_kws={'edgecolor':'k'})\n",
    "ax[1].set_title('y_pred 분포')\n",
    "ax[1].set_xlabel('time_survived')\n",
    "plt.show()\n",
    "\n",
    "\n",
    "fig, ax = plt.subplots(1, 1, figsize=(10, 5))\n",
    "sns.distplot(y_test, bins=20, kde=False, ax=ax, color='g', hist_kws={'edgecolor':'k'}, label='y_true')\n",
    "sns.distplot(pred_lr['Label'], bins=20, kde=False, ax=ax, color='grey', hist_kws={'edgecolor':'k'}, label='y_pred')\n",
    "plt.legend()\n",
    "plt.show()"
   ]
  }
 ],
 "metadata": {
  "hide_input": false,
  "kernelspec": {
   "display_name": "Python 3",
   "language": "python",
   "name": "python3"
  },
  "language_info": {
   "codemirror_mode": {
    "name": "ipython",
    "version": 3
   },
   "file_extension": ".py",
   "mimetype": "text/x-python",
   "name": "python",
   "nbconvert_exporter": "python",
   "pygments_lexer": "ipython3",
   "version": "3.8.8"
  },
  "toc": {
   "base_numbering": 1,
   "nav_menu": {},
   "number_sections": false,
   "sideBar": true,
   "skip_h1_title": false,
   "title_cell": "Table of Contents",
   "title_sidebar": "Contents",
   "toc_cell": false,
   "toc_position": {},
   "toc_section_display": true,
   "toc_window_display": true
  },
  "varInspector": {
   "cols": {
    "lenName": 16,
    "lenType": 16,
    "lenVar": 40
   },
   "kernels_config": {
    "python": {
     "delete_cmd_postfix": "",
     "delete_cmd_prefix": "del ",
     "library": "var_list.py",
     "varRefreshCmd": "print(var_dic_list())"
    },
    "r": {
     "delete_cmd_postfix": ") ",
     "delete_cmd_prefix": "rm(",
     "library": "var_list.r",
     "varRefreshCmd": "cat(var_dic_list()) "
    }
   },
   "types_to_exclude": [
    "module",
    "function",
    "builtin_function_or_method",
    "instance",
    "_Feature"
   ],
   "window_display": false
  }
 },
 "nbformat": 4,
 "nbformat_minor": 5
}
