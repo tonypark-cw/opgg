{
 "cells": [
  {
   "cell_type": "code",
   "execution_count": null,
   "id": "6c5ddafa-0275-4aa3-8ac1-0273e22bc8c7",
   "metadata": {},
   "outputs": [],
   "source": [
    "tm._D, \n",
    "tm._T, \n",
    "tm.common.is_game, \n",
    "tm.damage_causer_name, \n",
    "tm.damage_reason,\n",
    "tm.damage_type_category, \n",
    "tm.distance, \n",
    "tm.killer.location, \n",
    "tm.killer.name, \n",
    "tm.victim.location, \n",
    "tm.victim.name"
   ]
  },
  {
   "cell_type": "code",
   "execution_count": null,
   "id": "b09c9eea-d3df-4df3-83bf-9a7c9bad0798",
   "metadata": {},
   "outputs": [],
   "source": [
    "lpk = []\n",
    "for tm in tml:\n",
    "    if tm._T == 'LogPlayerKill' and tm.common.is_game >= 1.0 :\n",
    "        # and tm.damage_type_category== 'Damage_Gun'  조건 추가로 총기사망만 챙길수 있으나 일단은 보류\n",
    "        tm = tm.to_dict()\n",
    "        df = pd.DataFrame([tm._D, \n",
    "        tm._T, \n",
    "        tm.common.is_game, \n",
    "        tm.damage_causer_name, \n",
    "        tm.damage_reason,\n",
    "        tm.damage_type_category, \n",
    "        tm.distance, \n",
    "        tm.killer.location, \n",
    "        tm.killer.name, \n",
    "        tm.victim.location, \n",
    "        tm.victim.name])"
   ]
  }
 ],
 "metadata": {
  "kernelspec": {
   "display_name": "Python 3",
   "language": "python",
   "name": "python3"
  },
  "language_info": {
   "codemirror_mode": {
    "name": "ipython",
    "version": 3
   },
   "file_extension": ".py",
   "mimetype": "text/x-python",
   "name": "python",
   "nbconvert_exporter": "python",
   "pygments_lexer": "ipython3",
   "version": "3.8.8"
  }
 },
 "nbformat": 4,
 "nbformat_minor": 5
}
